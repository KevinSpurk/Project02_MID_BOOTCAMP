{
 "cells": [
  {
   "cell_type": "markdown",
   "id": "60dee529-b3ef-4e7a-ae2a-6de4b4cfd762",
   "metadata": {},
   "source": [
    "# Project 02 - Credit Card Classification\n",
    "by Kevin Spurk"
   ]
  },
  {
   "cell_type": "markdown",
   "id": "3e18313f-f060-4888-9867-0eac67da5759",
   "metadata": {},
   "source": [
    "# 1 Executive Summary / Introdution\n",
    "\n",
    "### Project description\n",
    "\n",
    "You are working as a risk analyst with a bank. Apart from the other banking and loan services, the bank also provides credit card services which is a very important source of revenue for the bank. The bank wants to understand the demographics and other characteristics of its customers that accept a credit card offer and that do not accept a credit card. Usually the observational data for these kinds of problems is somewhat limited in that often the company sees only those who respond to an offer. To get around this, the bank designs a focused marketing study, with 18,000 current bank customers. This focused approach allows the bank to know who does and does not respond to the offer, and to use existing demographic data that is already available on each customer.\n",
    "\n",
    "### Objective\n",
    "\n",
    "The task is to build a model that will provide insight into why some bank customers accept credit card offers. There are also other potential areas of opportunities that the bank wants to understand from the data. Your senior management has also posted these other questions that will help them better understand their customers.\n",
    "\n",
    "### Results\n",
    "\n",
    "ToDo"
   ]
  },
  {
   "cell_type": "code",
   "execution_count": null,
   "id": "06310fb5-a642-4650-afce-8360dfb017da",
   "metadata": {},
   "outputs": [],
   "source": []
  },
  {
   "cell_type": "markdown",
   "id": "f92747d0-678d-4a0e-9fa6-c3eb4970d726",
   "metadata": {},
   "source": [
    "# 2 Setup"
   ]
  },
  {
   "cell_type": "markdown",
   "id": "05ce3089-7bd9-4724-a544-2d01db6f331f",
   "metadata": {},
   "source": [
    "### 2.1 Library imports"
   ]
  },
  {
   "cell_type": "code",
   "execution_count": 206,
   "id": "b5b67627-da27-42a3-9940-5b36e06e7439",
   "metadata": {},
   "outputs": [],
   "source": [
    "import pymysql\n",
    "from sqlalchemy import create_engine\n",
    "import getpass\n",
    "import pandas as pd\n",
    "import numpy as np\n",
    "import seaborn as sns\n",
    "import matplotlib.pyplot as plt\n",
    "import re\n",
    "import scipy.stats as stats\n",
    "from scipy.stats import norm\n",
    "from scipy.stats import chi2\n",
    "from scipy.special import inv_boxcox\n",
    "import pickle\n",
    "import matplotlib.pyplot as plt\n",
    "from scipy.stats import chi2_contingency\n",
    "from patsy import dmatrices\n",
    "from statsmodels.stats.outliers_influence import variance_inflation_factor\n",
    "from statsmodels.tools.tools import add_constant\n",
    "from imblearn.over_sampling import SMOTE\n",
    "from sklearn.linear_model import LogisticRegression\n",
    "from sklearn.neighbors import KNeighborsClassifier\n",
    "from sklearn.metrics import r2_score\n",
    "from sklearn.preprocessing import OneHotEncoder, Normalizer, StandardScaler, LabelEncoder\n",
    "from sklearn.model_selection import train_test_split\n",
    "from sklearn import metrics\n",
    "from sklearn.metrics import confusion_matrix\n",
    "from sklearn.metrics import plot_confusion_matrix\n",
    "from sklearn.metrics import accuracy_score\n",
    "import os\n",
    "import math\n",
    "import random\n",
    "import warnings\n",
    "warnings.filterwarnings('ignore')\n",
    "\n",
    "pd.options.display.max_columns = None\n",
    "pd.set_option('max_row', None)"
   ]
  },
  {
   "cell_type": "code",
   "execution_count": 2,
   "id": "95cb87b6-f464-415c-883f-fe505c6b180c",
   "metadata": {},
   "outputs": [
    {
     "name": "stdin",
     "output_type": "stream",
     "text": [
      " ········\n"
     ]
    }
   ],
   "source": [
    "password = getpass.getpass()"
   ]
  },
  {
   "cell_type": "markdown",
   "id": "ba26ff54-b5db-4816-84f0-72421b687f69",
   "metadata": {},
   "source": [
    "### 2.2 mySQL data import"
   ]
  },
  {
   "cell_type": "code",
   "execution_count": 3,
   "id": "d47f1204-95b6-4040-b9d3-744dcbe4a89f",
   "metadata": {},
   "outputs": [],
   "source": [
    "connection_string = 'mysql+pymysql://root:' + password + '@localhost/credit_card_classification'\n",
    "engine = create_engine(connection_string)\n",
    "\n",
    "query = '''SELECT *\n",
    "           FROM credit_card_data;\n",
    "           '''\n",
    "\n",
    "data = pd.read_sql_query(query, engine)"
   ]
  },
  {
   "cell_type": "code",
   "execution_count": null,
   "id": "805eb017-2c9c-4d94-96a0-6ff08913dd40",
   "metadata": {},
   "outputs": [],
   "source": []
  },
  {
   "cell_type": "markdown",
   "id": "1438c718-db53-4b7e-b92b-90aaf18909ce",
   "metadata": {},
   "source": [
    "# 3 Data cleaning / wrangling"
   ]
  },
  {
   "cell_type": "markdown",
   "id": "7ca3ab76-1cd3-4b6b-add0-0e6f65b1ffe9",
   "metadata": {},
   "source": [
    "### 3.1 Overview"
   ]
  },
  {
   "cell_type": "code",
   "execution_count": 4,
   "id": "0d7f32a7-c398-4b54-bf08-d4fbd9107a91",
   "metadata": {},
   "outputs": [
    {
     "data": {
      "text/html": [
       "<div>\n",
       "<style scoped>\n",
       "    .dataframe tbody tr th:only-of-type {\n",
       "        vertical-align: middle;\n",
       "    }\n",
       "\n",
       "    .dataframe tbody tr th {\n",
       "        vertical-align: top;\n",
       "    }\n",
       "\n",
       "    .dataframe thead th {\n",
       "        text-align: right;\n",
       "    }\n",
       "</style>\n",
       "<table border=\"1\" class=\"dataframe\">\n",
       "  <thead>\n",
       "    <tr style=\"text-align: right;\">\n",
       "      <th></th>\n",
       "      <th>Customer_Number</th>\n",
       "      <th>Offer_Accepted</th>\n",
       "      <th>Reward</th>\n",
       "      <th>Mailer_Type</th>\n",
       "      <th>Income_Level</th>\n",
       "      <th>Bank_Accounts_Open</th>\n",
       "      <th>Overdraft_Protection</th>\n",
       "      <th>Credit_Rating</th>\n",
       "      <th>Credit_Cards_Held</th>\n",
       "      <th>#_Homes_Owned</th>\n",
       "      <th>Household_Size</th>\n",
       "      <th>Own_Your_Home</th>\n",
       "      <th>Average_Balance</th>\n",
       "      <th>Q1_Balance</th>\n",
       "      <th>Q2_Balance</th>\n",
       "      <th>Q3_Balance</th>\n",
       "      <th>Q4_Balance</th>\n",
       "    </tr>\n",
       "  </thead>\n",
       "  <tbody>\n",
       "    <tr>\n",
       "      <th>0</th>\n",
       "      <td>1</td>\n",
       "      <td>No</td>\n",
       "      <td>Air Miles</td>\n",
       "      <td>Letter</td>\n",
       "      <td>High</td>\n",
       "      <td>1</td>\n",
       "      <td>No</td>\n",
       "      <td>High</td>\n",
       "      <td>2</td>\n",
       "      <td>1</td>\n",
       "      <td>4</td>\n",
       "      <td>No</td>\n",
       "      <td>1160.75</td>\n",
       "      <td>1669</td>\n",
       "      <td>877</td>\n",
       "      <td>1095</td>\n",
       "      <td>1002</td>\n",
       "    </tr>\n",
       "    <tr>\n",
       "      <th>1</th>\n",
       "      <td>2</td>\n",
       "      <td>No</td>\n",
       "      <td>Air Miles</td>\n",
       "      <td>Letter</td>\n",
       "      <td>Medium</td>\n",
       "      <td>1</td>\n",
       "      <td>No</td>\n",
       "      <td>Medium</td>\n",
       "      <td>2</td>\n",
       "      <td>2</td>\n",
       "      <td>5</td>\n",
       "      <td>Yes</td>\n",
       "      <td>147.25</td>\n",
       "      <td>39</td>\n",
       "      <td>106</td>\n",
       "      <td>78</td>\n",
       "      <td>366</td>\n",
       "    </tr>\n",
       "    <tr>\n",
       "      <th>2</th>\n",
       "      <td>3</td>\n",
       "      <td>No</td>\n",
       "      <td>Air Miles</td>\n",
       "      <td>Postcard</td>\n",
       "      <td>High</td>\n",
       "      <td>2</td>\n",
       "      <td>No</td>\n",
       "      <td>Medium</td>\n",
       "      <td>2</td>\n",
       "      <td>1</td>\n",
       "      <td>2</td>\n",
       "      <td>Yes</td>\n",
       "      <td>276.50</td>\n",
       "      <td>367</td>\n",
       "      <td>352</td>\n",
       "      <td>145</td>\n",
       "      <td>242</td>\n",
       "    </tr>\n",
       "    <tr>\n",
       "      <th>3</th>\n",
       "      <td>4</td>\n",
       "      <td>No</td>\n",
       "      <td>Air Miles</td>\n",
       "      <td>Letter</td>\n",
       "      <td>Medium</td>\n",
       "      <td>2</td>\n",
       "      <td>No</td>\n",
       "      <td>High</td>\n",
       "      <td>1</td>\n",
       "      <td>1</td>\n",
       "      <td>4</td>\n",
       "      <td>No</td>\n",
       "      <td>1219.00</td>\n",
       "      <td>1578</td>\n",
       "      <td>1760</td>\n",
       "      <td>1119</td>\n",
       "      <td>419</td>\n",
       "    </tr>\n",
       "    <tr>\n",
       "      <th>4</th>\n",
       "      <td>5</td>\n",
       "      <td>No</td>\n",
       "      <td>Air Miles</td>\n",
       "      <td>Letter</td>\n",
       "      <td>Medium</td>\n",
       "      <td>1</td>\n",
       "      <td>No</td>\n",
       "      <td>Medium</td>\n",
       "      <td>2</td>\n",
       "      <td>1</td>\n",
       "      <td>6</td>\n",
       "      <td>Yes</td>\n",
       "      <td>1211.00</td>\n",
       "      <td>2140</td>\n",
       "      <td>1357</td>\n",
       "      <td>982</td>\n",
       "      <td>365</td>\n",
       "    </tr>\n",
       "  </tbody>\n",
       "</table>\n",
       "</div>"
      ],
      "text/plain": [
       "   Customer_Number Offer_Accepted     Reward Mailer_Type Income_Level  \\\n",
       "0                1             No  Air Miles      Letter         High   \n",
       "1                2             No  Air Miles      Letter       Medium   \n",
       "2                3             No  Air Miles    Postcard         High   \n",
       "3                4             No  Air Miles      Letter       Medium   \n",
       "4                5             No  Air Miles      Letter       Medium   \n",
       "\n",
       "   Bank_Accounts_Open Overdraft_Protection Credit_Rating  Credit_Cards_Held  \\\n",
       "0                   1                   No          High                  2   \n",
       "1                   1                   No        Medium                  2   \n",
       "2                   2                   No        Medium                  2   \n",
       "3                   2                   No          High                  1   \n",
       "4                   1                   No        Medium                  2   \n",
       "\n",
       "   #_Homes_Owned  Household_Size Own_Your_Home  Average_Balance  Q1_Balance  \\\n",
       "0              1               4            No          1160.75        1669   \n",
       "1              2               5           Yes           147.25          39   \n",
       "2              1               2           Yes           276.50         367   \n",
       "3              1               4            No          1219.00        1578   \n",
       "4              1               6           Yes          1211.00        2140   \n",
       "\n",
       "   Q2_Balance  Q3_Balance  Q4_Balance  \n",
       "0         877        1095        1002  \n",
       "1         106          78         366  \n",
       "2         352         145         242  \n",
       "3        1760        1119         419  \n",
       "4        1357         982         365  "
      ]
     },
     "execution_count": 4,
     "metadata": {},
     "output_type": "execute_result"
    }
   ],
   "source": [
    "data.head()"
   ]
  },
  {
   "cell_type": "code",
   "execution_count": 5,
   "id": "c99bae45-7a94-4264-aec7-a0f3aacbfadb",
   "metadata": {},
   "outputs": [
    {
     "data": {
      "text/plain": [
       "(17976, 17)"
      ]
     },
     "execution_count": 5,
     "metadata": {},
     "output_type": "execute_result"
    }
   ],
   "source": [
    "data.shape"
   ]
  },
  {
   "cell_type": "code",
   "execution_count": 6,
   "id": "7cad4185-8ff0-4c53-b651-618fcca8a084",
   "metadata": {},
   "outputs": [
    {
     "name": "stdout",
     "output_type": "stream",
     "text": [
      "<class 'pandas.core.frame.DataFrame'>\n",
      "RangeIndex: 17976 entries, 0 to 17975\n",
      "Data columns (total 17 columns):\n",
      " #   Column                Non-Null Count  Dtype  \n",
      "---  ------                --------------  -----  \n",
      " 0   Customer_Number       17976 non-null  int64  \n",
      " 1   Offer_Accepted        17976 non-null  object \n",
      " 2   Reward                17976 non-null  object \n",
      " 3   Mailer_Type           17976 non-null  object \n",
      " 4   Income_Level          17976 non-null  object \n",
      " 5   Bank_Accounts_Open    17976 non-null  int64  \n",
      " 6   Overdraft_Protection  17976 non-null  object \n",
      " 7   Credit_Rating         17976 non-null  object \n",
      " 8   Credit_Cards_Held     17976 non-null  int64  \n",
      " 9   #_Homes_Owned         17976 non-null  int64  \n",
      " 10  Household_Size        17976 non-null  int64  \n",
      " 11  Own_Your_Home         17976 non-null  object \n",
      " 12  Average_Balance       17976 non-null  float64\n",
      " 13  Q1_Balance            17976 non-null  int64  \n",
      " 14  Q2_Balance            17976 non-null  int64  \n",
      " 15  Q3_Balance            17976 non-null  int64  \n",
      " 16  Q4_Balance            17976 non-null  int64  \n",
      "dtypes: float64(1), int64(9), object(7)\n",
      "memory usage: 2.3+ MB\n"
     ]
    }
   ],
   "source": [
    "data.info()"
   ]
  },
  {
   "cell_type": "markdown",
   "id": "106aab22-c063-4244-8881-166458791279",
   "metadata": {},
   "source": [
    "> **Conclusion:** \\n The dataframe includes **17976 customers**. The csv. file has data for 18000 customers. Due to an error in the data import of the csv. file into a mySQL database, there was a negligible loss of data. The customer data is stored in a total of **17 columns - 10 numerical and 7 categorical**. There are **no null values** present, but in a following step I'm checking im the data contains zeros that have to be dealt with."
   ]
  },
  {
   "cell_type": "code",
   "execution_count": null,
   "id": "4b4124a8-45fe-42dd-9460-f05fca0c3047",
   "metadata": {},
   "outputs": [],
   "source": []
  },
  {
   "cell_type": "markdown",
   "id": "4eb7d9a0-f1ff-48a8-8772-96a647276d65",
   "metadata": {},
   "source": [
    "### 3.2 Indexing"
   ]
  },
  {
   "cell_type": "code",
   "execution_count": 7,
   "id": "c1cee329-1735-42e6-8220-e921647d8a28",
   "metadata": {},
   "outputs": [],
   "source": [
    "data.rename(columns={'Customer_Number':'id'}, inplace=True)\n",
    "data = data.set_index('id')"
   ]
  },
  {
   "cell_type": "code",
   "execution_count": null,
   "id": "cbf88e32-8d39-4a7d-a9bc-2f58cc5dd035",
   "metadata": {},
   "outputs": [],
   "source": []
  },
  {
   "cell_type": "markdown",
   "id": "fe66d8a5-9d50-4dd4-af4f-b8020929e08c",
   "metadata": {},
   "source": [
    "### 3.3 Cleaning headers"
   ]
  },
  {
   "cell_type": "code",
   "execution_count": 8,
   "id": "fac5404e-56ca-45ef-a847-28320a1d1d22",
   "metadata": {},
   "outputs": [],
   "source": [
    "columns_list = []\n",
    "pattern = '#_'\n",
    "\n",
    "for column in data.columns:\n",
    "    column = re.sub(pattern, '', column)\n",
    "    columns_list.append(column)\n",
    "\n",
    "data.columns = columns_list"
   ]
  },
  {
   "cell_type": "code",
   "execution_count": 9,
   "id": "63b8bdc0-8413-4e58-b35b-080442d50fd4",
   "metadata": {},
   "outputs": [],
   "source": [
    "def clean_headers(df):\n",
    "    df.columns = df.columns.str.lower().str.strip().str.replace(' ', '_')\n",
    "    return df"
   ]
  },
  {
   "cell_type": "code",
   "execution_count": 10,
   "id": "06cdc609-7c12-40d6-8cb0-16533367d97f",
   "metadata": {},
   "outputs": [
    {
     "data": {
      "text/html": [
       "<div>\n",
       "<style scoped>\n",
       "    .dataframe tbody tr th:only-of-type {\n",
       "        vertical-align: middle;\n",
       "    }\n",
       "\n",
       "    .dataframe tbody tr th {\n",
       "        vertical-align: top;\n",
       "    }\n",
       "\n",
       "    .dataframe thead th {\n",
       "        text-align: right;\n",
       "    }\n",
       "</style>\n",
       "<table border=\"1\" class=\"dataframe\">\n",
       "  <thead>\n",
       "    <tr style=\"text-align: right;\">\n",
       "      <th></th>\n",
       "      <th>offer_accepted</th>\n",
       "      <th>reward</th>\n",
       "      <th>mailer_type</th>\n",
       "      <th>income_level</th>\n",
       "      <th>bank_accounts_open</th>\n",
       "      <th>overdraft_protection</th>\n",
       "      <th>credit_rating</th>\n",
       "      <th>credit_cards_held</th>\n",
       "      <th>homes_owned</th>\n",
       "      <th>household_size</th>\n",
       "      <th>own_your_home</th>\n",
       "      <th>average_balance</th>\n",
       "      <th>q1_balance</th>\n",
       "      <th>q2_balance</th>\n",
       "      <th>q3_balance</th>\n",
       "      <th>q4_balance</th>\n",
       "    </tr>\n",
       "    <tr>\n",
       "      <th>id</th>\n",
       "      <th></th>\n",
       "      <th></th>\n",
       "      <th></th>\n",
       "      <th></th>\n",
       "      <th></th>\n",
       "      <th></th>\n",
       "      <th></th>\n",
       "      <th></th>\n",
       "      <th></th>\n",
       "      <th></th>\n",
       "      <th></th>\n",
       "      <th></th>\n",
       "      <th></th>\n",
       "      <th></th>\n",
       "      <th></th>\n",
       "      <th></th>\n",
       "    </tr>\n",
       "  </thead>\n",
       "  <tbody>\n",
       "    <tr>\n",
       "      <th>1</th>\n",
       "      <td>No</td>\n",
       "      <td>Air Miles</td>\n",
       "      <td>Letter</td>\n",
       "      <td>High</td>\n",
       "      <td>1</td>\n",
       "      <td>No</td>\n",
       "      <td>High</td>\n",
       "      <td>2</td>\n",
       "      <td>1</td>\n",
       "      <td>4</td>\n",
       "      <td>No</td>\n",
       "      <td>1160.75</td>\n",
       "      <td>1669</td>\n",
       "      <td>877</td>\n",
       "      <td>1095</td>\n",
       "      <td>1002</td>\n",
       "    </tr>\n",
       "    <tr>\n",
       "      <th>2</th>\n",
       "      <td>No</td>\n",
       "      <td>Air Miles</td>\n",
       "      <td>Letter</td>\n",
       "      <td>Medium</td>\n",
       "      <td>1</td>\n",
       "      <td>No</td>\n",
       "      <td>Medium</td>\n",
       "      <td>2</td>\n",
       "      <td>2</td>\n",
       "      <td>5</td>\n",
       "      <td>Yes</td>\n",
       "      <td>147.25</td>\n",
       "      <td>39</td>\n",
       "      <td>106</td>\n",
       "      <td>78</td>\n",
       "      <td>366</td>\n",
       "    </tr>\n",
       "    <tr>\n",
       "      <th>3</th>\n",
       "      <td>No</td>\n",
       "      <td>Air Miles</td>\n",
       "      <td>Postcard</td>\n",
       "      <td>High</td>\n",
       "      <td>2</td>\n",
       "      <td>No</td>\n",
       "      <td>Medium</td>\n",
       "      <td>2</td>\n",
       "      <td>1</td>\n",
       "      <td>2</td>\n",
       "      <td>Yes</td>\n",
       "      <td>276.50</td>\n",
       "      <td>367</td>\n",
       "      <td>352</td>\n",
       "      <td>145</td>\n",
       "      <td>242</td>\n",
       "    </tr>\n",
       "    <tr>\n",
       "      <th>4</th>\n",
       "      <td>No</td>\n",
       "      <td>Air Miles</td>\n",
       "      <td>Letter</td>\n",
       "      <td>Medium</td>\n",
       "      <td>2</td>\n",
       "      <td>No</td>\n",
       "      <td>High</td>\n",
       "      <td>1</td>\n",
       "      <td>1</td>\n",
       "      <td>4</td>\n",
       "      <td>No</td>\n",
       "      <td>1219.00</td>\n",
       "      <td>1578</td>\n",
       "      <td>1760</td>\n",
       "      <td>1119</td>\n",
       "      <td>419</td>\n",
       "    </tr>\n",
       "    <tr>\n",
       "      <th>5</th>\n",
       "      <td>No</td>\n",
       "      <td>Air Miles</td>\n",
       "      <td>Letter</td>\n",
       "      <td>Medium</td>\n",
       "      <td>1</td>\n",
       "      <td>No</td>\n",
       "      <td>Medium</td>\n",
       "      <td>2</td>\n",
       "      <td>1</td>\n",
       "      <td>6</td>\n",
       "      <td>Yes</td>\n",
       "      <td>1211.00</td>\n",
       "      <td>2140</td>\n",
       "      <td>1357</td>\n",
       "      <td>982</td>\n",
       "      <td>365</td>\n",
       "    </tr>\n",
       "  </tbody>\n",
       "</table>\n",
       "</div>"
      ],
      "text/plain": [
       "   offer_accepted     reward mailer_type income_level  bank_accounts_open  \\\n",
       "id                                                                          \n",
       "1              No  Air Miles      Letter         High                   1   \n",
       "2              No  Air Miles      Letter       Medium                   1   \n",
       "3              No  Air Miles    Postcard         High                   2   \n",
       "4              No  Air Miles      Letter       Medium                   2   \n",
       "5              No  Air Miles      Letter       Medium                   1   \n",
       "\n",
       "   overdraft_protection credit_rating  credit_cards_held  homes_owned  \\\n",
       "id                                                                      \n",
       "1                    No          High                  2            1   \n",
       "2                    No        Medium                  2            2   \n",
       "3                    No        Medium                  2            1   \n",
       "4                    No          High                  1            1   \n",
       "5                    No        Medium                  2            1   \n",
       "\n",
       "    household_size own_your_home  average_balance  q1_balance  q2_balance  \\\n",
       "id                                                                          \n",
       "1                4            No          1160.75        1669         877   \n",
       "2                5           Yes           147.25          39         106   \n",
       "3                2           Yes           276.50         367         352   \n",
       "4                4            No          1219.00        1578        1760   \n",
       "5                6           Yes          1211.00        2140        1357   \n",
       "\n",
       "    q3_balance  q4_balance  \n",
       "id                          \n",
       "1         1095        1002  \n",
       "2           78         366  \n",
       "3          145         242  \n",
       "4         1119         419  \n",
       "5          982         365  "
      ]
     },
     "execution_count": 10,
     "metadata": {},
     "output_type": "execute_result"
    }
   ],
   "source": [
    "clean_headers(data)\n",
    "data.head()"
   ]
  },
  {
   "cell_type": "code",
   "execution_count": null,
   "id": "e555a23d-80e8-4ddd-91f1-9b5dd922b08a",
   "metadata": {},
   "outputs": [],
   "source": []
  },
  {
   "cell_type": "markdown",
   "id": "24b75712-92ef-4001-9e2e-3bb4f42953ab",
   "metadata": {},
   "source": [
    "### 3.4 Data cleaning"
   ]
  },
  {
   "cell_type": "markdown",
   "id": "34b012b9-f5e6-48bc-8774-41d69f7f2b1f",
   "metadata": {},
   "source": [
    "**Checking for negative values and unwanted zeros**"
   ]
  },
  {
   "cell_type": "code",
   "execution_count": 11,
   "id": "7f9e605d-801c-44c9-ba17-9d5f1306fd35",
   "metadata": {},
   "outputs": [
    {
     "name": "stdout",
     "output_type": "stream",
     "text": [
      "bank_accounts_open Negative values: 0 Zeros: 0 \n",
      "\n",
      "credit_cards_held Negative values: 0 Zeros: 0 \n",
      "\n",
      "homes_owned Negative values: 0 Zeros: 0 \n",
      "\n",
      "household_size Negative values: 0 Zeros: 0 \n",
      "\n",
      "average_balance Negative values: 0 Zeros: 0 \n",
      "\n",
      "q1_balance Negative values: 0 Zeros: 5 \n",
      "\n",
      "q2_balance Negative values: 0 Zeros: 1 \n",
      "\n",
      "q3_balance Negative values: 0 Zeros: 1 \n",
      "\n",
      "q4_balance Negative values: 0 Zeros: 5 \n",
      "\n"
     ]
    }
   ],
   "source": [
    "for column in data.select_dtypes(np.number):\n",
    "    print(column, 'Negative values:', len(data[data[column] < 0]), 'Zeros:', len(data[data[column] == 0]), '\\n')"
   ]
  },
  {
   "cell_type": "markdown",
   "id": "93cb86c1-0520-4c27-9a80-33038efc0c69",
   "metadata": {},
   "source": [
    ">**Conclusion:** \n",
    "\n",
    ">Zeros in the balance columns are to be expected and don't have to be dealt with. There's no data cleaing to do."
   ]
  },
  {
   "cell_type": "code",
   "execution_count": null,
   "id": "5c2879a0-5e51-41d4-9a05-67b31440ba6e",
   "metadata": {},
   "outputs": [],
   "source": []
  },
  {
   "cell_type": "markdown",
   "id": "46337113-fd64-46cc-a99d-5a0ff5ecb954",
   "metadata": {},
   "source": [
    "# 4 EDA"
   ]
  },
  {
   "cell_type": "markdown",
   "id": "a0d5fc99-c5b1-4b7f-a290-5765a90d4b5f",
   "metadata": {},
   "source": [
    "### 4.1 Exploration of numerical features"
   ]
  },
  {
   "cell_type": "code",
   "execution_count": 12,
   "id": "37df5b8e-241c-4902-a31a-88324924726c",
   "metadata": {},
   "outputs": [
    {
     "data": {
      "text/html": [
       "<div>\n",
       "<style scoped>\n",
       "    .dataframe tbody tr th:only-of-type {\n",
       "        vertical-align: middle;\n",
       "    }\n",
       "\n",
       "    .dataframe tbody tr th {\n",
       "        vertical-align: top;\n",
       "    }\n",
       "\n",
       "    .dataframe thead th {\n",
       "        text-align: right;\n",
       "    }\n",
       "</style>\n",
       "<table border=\"1\" class=\"dataframe\">\n",
       "  <thead>\n",
       "    <tr style=\"text-align: right;\">\n",
       "      <th></th>\n",
       "      <th>count</th>\n",
       "      <th>mean</th>\n",
       "      <th>std</th>\n",
       "      <th>min</th>\n",
       "      <th>25%</th>\n",
       "      <th>50%</th>\n",
       "      <th>75%</th>\n",
       "      <th>max</th>\n",
       "    </tr>\n",
       "  </thead>\n",
       "  <tbody>\n",
       "    <tr>\n",
       "      <th>bank_accounts_open</th>\n",
       "      <td>17976.0</td>\n",
       "      <td>1.255730</td>\n",
       "      <td>0.472405</td>\n",
       "      <td>1.00</td>\n",
       "      <td>1.00</td>\n",
       "      <td>1.0</td>\n",
       "      <td>1.00</td>\n",
       "      <td>3.00</td>\n",
       "    </tr>\n",
       "    <tr>\n",
       "      <th>credit_cards_held</th>\n",
       "      <td>17976.0</td>\n",
       "      <td>1.903427</td>\n",
       "      <td>0.797086</td>\n",
       "      <td>1.00</td>\n",
       "      <td>1.00</td>\n",
       "      <td>2.0</td>\n",
       "      <td>2.00</td>\n",
       "      <td>4.00</td>\n",
       "    </tr>\n",
       "    <tr>\n",
       "      <th>homes_owned</th>\n",
       "      <td>17976.0</td>\n",
       "      <td>1.203549</td>\n",
       "      <td>0.427446</td>\n",
       "      <td>1.00</td>\n",
       "      <td>1.00</td>\n",
       "      <td>1.0</td>\n",
       "      <td>1.00</td>\n",
       "      <td>3.00</td>\n",
       "    </tr>\n",
       "    <tr>\n",
       "      <th>household_size</th>\n",
       "      <td>17976.0</td>\n",
       "      <td>3.499110</td>\n",
       "      <td>1.114476</td>\n",
       "      <td>1.00</td>\n",
       "      <td>3.00</td>\n",
       "      <td>3.0</td>\n",
       "      <td>4.00</td>\n",
       "      <td>9.00</td>\n",
       "    </tr>\n",
       "    <tr>\n",
       "      <th>average_balance</th>\n",
       "      <td>17976.0</td>\n",
       "      <td>940.515562</td>\n",
       "      <td>350.297837</td>\n",
       "      <td>48.25</td>\n",
       "      <td>787.50</td>\n",
       "      <td>1007.0</td>\n",
       "      <td>1153.25</td>\n",
       "      <td>3366.25</td>\n",
       "    </tr>\n",
       "    <tr>\n",
       "      <th>q1_balance</th>\n",
       "      <td>17976.0</td>\n",
       "      <td>910.450656</td>\n",
       "      <td>620.077060</td>\n",
       "      <td>0.00</td>\n",
       "      <td>392.75</td>\n",
       "      <td>772.0</td>\n",
       "      <td>1521.00</td>\n",
       "      <td>3450.00</td>\n",
       "    </tr>\n",
       "    <tr>\n",
       "      <th>q2_balance</th>\n",
       "      <td>17976.0</td>\n",
       "      <td>999.392190</td>\n",
       "      <td>457.402268</td>\n",
       "      <td>0.00</td>\n",
       "      <td>663.00</td>\n",
       "      <td>1032.0</td>\n",
       "      <td>1342.00</td>\n",
       "      <td>3421.00</td>\n",
       "    </tr>\n",
       "    <tr>\n",
       "      <th>q3_balance</th>\n",
       "      <td>17976.0</td>\n",
       "      <td>1042.033600</td>\n",
       "      <td>553.452599</td>\n",
       "      <td>0.00</td>\n",
       "      <td>633.00</td>\n",
       "      <td>945.5</td>\n",
       "      <td>1463.00</td>\n",
       "      <td>3823.00</td>\n",
       "    </tr>\n",
       "    <tr>\n",
       "      <th>q4_balance</th>\n",
       "      <td>17976.0</td>\n",
       "      <td>810.185803</td>\n",
       "      <td>559.001365</td>\n",
       "      <td>0.00</td>\n",
       "      <td>363.00</td>\n",
       "      <td>703.0</td>\n",
       "      <td>1212.00</td>\n",
       "      <td>4215.00</td>\n",
       "    </tr>\n",
       "  </tbody>\n",
       "</table>\n",
       "</div>"
      ],
      "text/plain": [
       "                      count         mean         std    min     25%     50%  \\\n",
       "bank_accounts_open  17976.0     1.255730    0.472405   1.00    1.00     1.0   \n",
       "credit_cards_held   17976.0     1.903427    0.797086   1.00    1.00     2.0   \n",
       "homes_owned         17976.0     1.203549    0.427446   1.00    1.00     1.0   \n",
       "household_size      17976.0     3.499110    1.114476   1.00    3.00     3.0   \n",
       "average_balance     17976.0   940.515562  350.297837  48.25  787.50  1007.0   \n",
       "q1_balance          17976.0   910.450656  620.077060   0.00  392.75   772.0   \n",
       "q2_balance          17976.0   999.392190  457.402268   0.00  663.00  1032.0   \n",
       "q3_balance          17976.0  1042.033600  553.452599   0.00  633.00   945.5   \n",
       "q4_balance          17976.0   810.185803  559.001365   0.00  363.00   703.0   \n",
       "\n",
       "                        75%      max  \n",
       "bank_accounts_open     1.00     3.00  \n",
       "credit_cards_held      2.00     4.00  \n",
       "homes_owned            1.00     3.00  \n",
       "household_size         4.00     9.00  \n",
       "average_balance     1153.25  3366.25  \n",
       "q1_balance          1521.00  3450.00  \n",
       "q2_balance          1342.00  3421.00  \n",
       "q3_balance          1463.00  3823.00  \n",
       "q4_balance          1212.00  4215.00  "
      ]
     },
     "execution_count": 12,
     "metadata": {},
     "output_type": "execute_result"
    }
   ],
   "source": [
    "data.describe().T"
   ]
  },
  {
   "cell_type": "code",
   "execution_count": null,
   "id": "477a977c-b3a3-4b40-8bf0-fd3186a30114",
   "metadata": {},
   "outputs": [],
   "source": []
  },
  {
   "cell_type": "code",
   "execution_count": 13,
   "id": "16559b35-3821-4d38-92c9-30b5613fe87b",
   "metadata": {},
   "outputs": [
    {
     "data": {
      "image/png": "[encoded data removed]",
      "text/plain": [
       "<Figure size 720x576 with 2 Axes>"
      ]
     },
     "metadata": {
      "needs_background": "light"
     },
     "output_type": "display_data"
    }
   ],
   "source": [
    "corr_matrix=data.corr(method='pearson')\n",
    "fig, ax = plt.subplots(figsize=(10, 8))\n",
    "ax = sns.heatmap(corr_matrix, annot=True)\n",
    "plt.show()"
   ]
  },
  {
   "cell_type": "code",
   "execution_count": null,
   "id": "712ac6b3-d7ea-49df-a822-4f09d0dfb648",
   "metadata": {},
   "outputs": [],
   "source": []
  },
  {
   "cell_type": "code",
   "execution_count": 14,
   "id": "f2803999-7140-4bad-8dda-268562650be3",
   "metadata": {},
   "outputs": [],
   "source": [
    "def var_classification(df, bln, disc, skip_columns=[]):\n",
    "    df_bln = df.copy()\n",
    "    df_discrect = df.copy()\n",
    "    df_cont = df.copy()\n",
    "    \n",
    "    for column in df.columns:\n",
    "        if column not in skip_columns:\n",
    "            if df[column].nunique() <= bln:\n",
    "                df_bln[column] =  df_bln[column].astype('category')\n",
    "                df_discrect = df_discrect.drop(column, axis=1)\n",
    "                df_cont = df_cont.drop(column, axis=1)\n",
    "            elif (df[column].nunique() > bln) & (df[column].nunique() < disc):\n",
    "                df_bln = df_bln.drop(column, axis=1)\n",
    "                df_cont = df_cont.drop(column, axis=1)\n",
    "            else:\n",
    "                df_bln = df_bln.drop(column, axis=1)\n",
    "                df_discrect = df_discrect.drop(column, axis=1)\n",
    "    return df_bln, df_discrect, df_cont"
   ]
  },
  {
   "cell_type": "code",
   "execution_count": 145,
   "id": "a6874049-6f60-49ad-8dd5-ebc7f0c7178e",
   "metadata": {},
   "outputs": [],
   "source": [
    "data_bln, data_discrete, data_cont = var_classification(data, bln=2, disc=10)\n"
   ]
  },
  {
   "cell_type": "code",
   "execution_count": 146,
   "id": "fd1a29d7-1dff-472d-9bc5-f5681a6bb306",
   "metadata": {},
   "outputs": [],
   "source": [
    "# function to display distribution plots and boxplots of columns in a df. \n",
    "\n",
    "def plots_continuous_var(df, skip_columns=[]):\n",
    "    for column in df:\n",
    "        if column not in skip_columns:\n",
    "            custom_params = {\"axes.spines.right\": False, \"axes.spines.top\": False}\n",
    "            sns.set_theme(style=\"ticks\", rc=custom_params)\n",
    "            fig, axes = plt.subplots(1, 2, figsize=(18, 5))\n",
    "            sns.distplot(df[column], ax=axes[0])\n",
    "            sns.boxplot(df[column], ax=axes[1])\n",
    "            plt.show()"
   ]
  },
  {
   "cell_type": "code",
   "execution_count": 147,
   "id": "f8ae39be-b5ba-4642-8e97-b31086f43e3c",
   "metadata": {},
   "outputs": [
    {
     "data": {
      "image/png": "[encoded data removed]",
      "text/plain": [
       "<Figure size 1296x360 with 2 Axes>"
      ]
     },
     "metadata": {},
     "output_type": "display_data"
    },
    {
     "data": {
      "image/png": "[encoded data removed]",
      "text/plain": [
       "<Figure size 1296x360 with 2 Axes>"
      ]
     },
     "metadata": {},
     "output_type": "display_data"
    },
    {
     "data": {
      "image/png": "[encoded data removed]",
      "text/plain": [
       "<Figure size 1296x360 with 2 Axes>"
      ]
     },
     "metadata": {},
     "output_type": "display_data"
    },
    {
     "data": {
      "image/png": "[encoded data removed]",
      "text/plain": [
       "<Figure size 1296x360 with 2 Axes>"
      ]
     },
     "metadata": {},
     "output_type": "display_data"
    },
    {
     "data": {
      "image/png": "[encoded data removed]",
      "text/plain": [
       "<Figure size 1296x360 with 2 Axes>"
      ]
     },
     "metadata": {},
     "output_type": "display_data"
    }
   ],
   "source": [
    "plots_continuous_var(data_cont)"
   ]
  },
  {
   "cell_type": "code",
   "execution_count": null,
   "id": "783afda5-ba45-4758-b65e-1b1d8cd40f11",
   "metadata": {},
   "outputs": [],
   "source": []
  },
  {
   "cell_type": "markdown",
   "id": "b2318d63-8cd7-4db0-8342-88c195f122e7",
   "metadata": {},
   "source": [
    "### 4.2 Exploration of categorical features\n",
    "\n",
    "**Value occurances**"
   ]
  },
  {
   "cell_type": "code",
   "execution_count": 17,
   "id": "a44719b9-d5ac-4344-994b-4e29cfad299c",
   "metadata": {},
   "outputs": [
    {
     "name": "stdout",
     "output_type": "stream",
     "text": [
      "offer_accepted No     16955\n",
      "Yes     1021\n",
      "Name: offer_accepted, dtype: int64 \n",
      "\n",
      "reward Air Miles    6047\n",
      "Cash Back    5995\n",
      "Points       5934\n",
      "Name: reward, dtype: int64 \n",
      "\n",
      "mailer_type Postcard    9134\n",
      "Letter      8842\n",
      "Name: mailer_type, dtype: int64 \n",
      "\n",
      "income_level Medium    9002\n",
      "High      4519\n",
      "Low       4455\n",
      "Name: income_level, dtype: int64 \n",
      "\n",
      "overdraft_protection No     15300\n",
      "Yes     2676\n",
      "Name: overdraft_protection, dtype: int64 \n",
      "\n",
      "credit_rating High      6064\n",
      "Medium    5964\n",
      "Low       5948\n",
      "Name: credit_rating, dtype: int64 \n",
      "\n",
      "own_your_home Yes    11636\n",
      "No      6340\n",
      "Name: own_your_home, dtype: int64 \n",
      "\n"
     ]
    }
   ],
   "source": [
    "for column in data.select_dtypes(np.object):\n",
    "    print(column, data[column].value_counts(), '\\n')"
   ]
  },
  {
   "cell_type": "code",
   "execution_count": null,
   "id": "64f810c1-0b09-4e01-bffe-41eb48ac8029",
   "metadata": {},
   "outputs": [],
   "source": []
  },
  {
   "cell_type": "markdown",
   "id": "ed28ce27-cc9d-4591-aa72-a5e1cdbf633b",
   "metadata": {
    "tags": []
   },
   "source": [
    "### 4.3 Visual exploration of features with descrete values"
   ]
  },
  {
   "cell_type": "code",
   "execution_count": 148,
   "id": "ffa06c2e-744a-4da5-ac88-3588d5a6fe9c",
   "metadata": {},
   "outputs": [],
   "source": [
    "# NOT WORKING\n",
    "\n",
    "# function to display count plots and boxplots of columns in a df. \n",
    "\n",
    "def plots_discrete_var(df, skip_columns=[]):\n",
    "    for column in df:\n",
    "        if column not in skip_columns:\n",
    "            custom_params = {\"axes.spines.right\": False, \"axes.spines.top\": False}\n",
    "            sns.set_theme(style=\"ticks\", rc=custom_params)\n",
    "            fig, axes = plt.subplots(1, 2, figsize=(18, 5))\n",
    "            sns.countplot(x=df[column], ax=axes[0])\n",
    "            sns.boxplot(x=df[column], ax=axes[1])\n",
    "            plt.show()"
   ]
  },
  {
   "cell_type": "code",
   "execution_count": 149,
   "id": "74ee2d58-307c-4c25-b66a-363b643e2048",
   "metadata": {
    "collapsed": true,
    "jupyter": {
     "outputs_hidden": true
    },
    "tags": []
   },
   "outputs": [
    {
     "ename": "TypeError",
     "evalue": "Horizontal orientation requires numeric `x` variable.",
     "output_type": "error",
     "traceback": [
      "\u001b[0;31m---------------------------------------------------------------------------\u001b[0m",
      "\u001b[0;31mTypeError\u001b[0m                                 Traceback (most recent call last)",
      "\u001b[0;32m<ipython-input-149-c1528f51f367>\u001b[0m in \u001b[0;36m<module>\u001b[0;34m\u001b[0m\n\u001b[0;32m----> 1\u001b[0;31m \u001b[0mplots_discrete_var\u001b[0m\u001b[0;34m(\u001b[0m\u001b[0mdata_discrete\u001b[0m\u001b[0;34m)\u001b[0m\u001b[0;34m\u001b[0m\u001b[0;34m\u001b[0m\u001b[0m\n\u001b[0m",
      "\u001b[0;32m<ipython-input-148-e24f9a401cba>\u001b[0m in \u001b[0;36mplots_discrete_var\u001b[0;34m(df, skip_columns)\u001b[0m\n\u001b[1;32m      8\u001b[0m             \u001b[0mfig\u001b[0m\u001b[0;34m,\u001b[0m \u001b[0maxes\u001b[0m \u001b[0;34m=\u001b[0m \u001b[0mplt\u001b[0m\u001b[0;34m.\u001b[0m\u001b[0msubplots\u001b[0m\u001b[0;34m(\u001b[0m\u001b[0;36m1\u001b[0m\u001b[0;34m,\u001b[0m \u001b[0;36m2\u001b[0m\u001b[0;34m,\u001b[0m \u001b[0mfigsize\u001b[0m\u001b[0;34m=\u001b[0m\u001b[0;34m(\u001b[0m\u001b[0;36m18\u001b[0m\u001b[0;34m,\u001b[0m \u001b[0;36m5\u001b[0m\u001b[0;34m)\u001b[0m\u001b[0;34m)\u001b[0m\u001b[0;34m\u001b[0m\u001b[0;34m\u001b[0m\u001b[0m\n\u001b[1;32m      9\u001b[0m             \u001b[0msns\u001b[0m\u001b[0;34m.\u001b[0m\u001b[0mcountplot\u001b[0m\u001b[0;34m(\u001b[0m\u001b[0mx\u001b[0m\u001b[0;34m=\u001b[0m\u001b[0mdf\u001b[0m\u001b[0;34m[\u001b[0m\u001b[0mcolumn\u001b[0m\u001b[0;34m]\u001b[0m\u001b[0;34m,\u001b[0m \u001b[0max\u001b[0m\u001b[0;34m=\u001b[0m\u001b[0maxes\u001b[0m\u001b[0;34m[\u001b[0m\u001b[0;36m0\u001b[0m\u001b[0;34m]\u001b[0m\u001b[0;34m)\u001b[0m\u001b[0;34m\u001b[0m\u001b[0;34m\u001b[0m\u001b[0m\n\u001b[0;32m---> 10\u001b[0;31m             \u001b[0msns\u001b[0m\u001b[0;34m.\u001b[0m\u001b[0mboxplot\u001b[0m\u001b[0;34m(\u001b[0m\u001b[0mx\u001b[0m\u001b[0;34m=\u001b[0m\u001b[0mdf\u001b[0m\u001b[0;34m[\u001b[0m\u001b[0mcolumn\u001b[0m\u001b[0;34m]\u001b[0m\u001b[0;34m,\u001b[0m \u001b[0max\u001b[0m\u001b[0;34m=\u001b[0m\u001b[0maxes\u001b[0m\u001b[0;34m[\u001b[0m\u001b[0;36m1\u001b[0m\u001b[0;34m]\u001b[0m\u001b[0;34m)\u001b[0m\u001b[0;34m\u001b[0m\u001b[0;34m\u001b[0m\u001b[0m\n\u001b[0m\u001b[1;32m     11\u001b[0m             \u001b[0mplt\u001b[0m\u001b[0;34m.\u001b[0m\u001b[0mshow\u001b[0m\u001b[0;34m(\u001b[0m\u001b[0;34m)\u001b[0m\u001b[0;34m\u001b[0m\u001b[0;34m\u001b[0m\u001b[0m\n",
      "\u001b[0;32m/usr/local/lib/python3.9/site-packages/seaborn/_decorators.py\u001b[0m in \u001b[0;36minner_f\u001b[0;34m(*args, **kwargs)\u001b[0m\n\u001b[1;32m     44\u001b[0m             )\n\u001b[1;32m     45\u001b[0m         \u001b[0mkwargs\u001b[0m\u001b[0;34m.\u001b[0m\u001b[0mupdate\u001b[0m\u001b[0;34m(\u001b[0m\u001b[0;34m{\u001b[0m\u001b[0mk\u001b[0m\u001b[0;34m:\u001b[0m \u001b[0marg\u001b[0m \u001b[0;32mfor\u001b[0m \u001b[0mk\u001b[0m\u001b[0;34m,\u001b[0m \u001b[0marg\u001b[0m \u001b[0;32min\u001b[0m \u001b[0mzip\u001b[0m\u001b[0;34m(\u001b[0m\u001b[0msig\u001b[0m\u001b[0;34m.\u001b[0m\u001b[0mparameters\u001b[0m\u001b[0;34m,\u001b[0m \u001b[0margs\u001b[0m\u001b[0;34m)\u001b[0m\u001b[0;34m}\u001b[0m\u001b[0;34m)\u001b[0m\u001b[0;34m\u001b[0m\u001b[0;34m\u001b[0m\u001b[0m\n\u001b[0;32m---> 46\u001b[0;31m         \u001b[0;32mreturn\u001b[0m \u001b[0mf\u001b[0m\u001b[0;34m(\u001b[0m\u001b[0;34m**\u001b[0m\u001b[0mkwargs\u001b[0m\u001b[0;34m)\u001b[0m\u001b[0;34m\u001b[0m\u001b[0;34m\u001b[0m\u001b[0m\n\u001b[0m\u001b[1;32m     47\u001b[0m     \u001b[0;32mreturn\u001b[0m \u001b[0minner_f\u001b[0m\u001b[0;34m\u001b[0m\u001b[0;34m\u001b[0m\u001b[0m\n\u001b[1;32m     48\u001b[0m \u001b[0;34m\u001b[0m\u001b[0m\n",
      "\u001b[0;32m/usr/local/lib/python3.9/site-packages/seaborn/categorical.py\u001b[0m in \u001b[0;36mboxplot\u001b[0;34m(x, y, hue, data, order, hue_order, orient, color, palette, saturation, width, dodge, fliersize, linewidth, whis, ax, **kwargs)\u001b[0m\n\u001b[1;32m   2238\u001b[0m ):\n\u001b[1;32m   2239\u001b[0m \u001b[0;34m\u001b[0m\u001b[0m\n\u001b[0;32m-> 2240\u001b[0;31m     plotter = _BoxPlotter(x, y, hue, data, order, hue_order,\n\u001b[0m\u001b[1;32m   2241\u001b[0m                           \u001b[0morient\u001b[0m\u001b[0;34m,\u001b[0m \u001b[0mcolor\u001b[0m\u001b[0;34m,\u001b[0m \u001b[0mpalette\u001b[0m\u001b[0;34m,\u001b[0m \u001b[0msaturation\u001b[0m\u001b[0;34m,\u001b[0m\u001b[0;34m\u001b[0m\u001b[0;34m\u001b[0m\u001b[0m\n\u001b[1;32m   2242\u001b[0m                           width, dodge, fliersize, linewidth)\n",
      "\u001b[0;32m/usr/local/lib/python3.9/site-packages/seaborn/categorical.py\u001b[0m in \u001b[0;36m__init__\u001b[0;34m(self, x, y, hue, data, order, hue_order, orient, color, palette, saturation, width, dodge, fliersize, linewidth)\u001b[0m\n\u001b[1;32m    404\u001b[0m                  width, dodge, fliersize, linewidth):\n\u001b[1;32m    405\u001b[0m \u001b[0;34m\u001b[0m\u001b[0m\n\u001b[0;32m--> 406\u001b[0;31m         \u001b[0mself\u001b[0m\u001b[0;34m.\u001b[0m\u001b[0mestablish_variables\u001b[0m\u001b[0;34m(\u001b[0m\u001b[0mx\u001b[0m\u001b[0;34m,\u001b[0m \u001b[0my\u001b[0m\u001b[0;34m,\u001b[0m \u001b[0mhue\u001b[0m\u001b[0;34m,\u001b[0m \u001b[0mdata\u001b[0m\u001b[0;34m,\u001b[0m \u001b[0morient\u001b[0m\u001b[0;34m,\u001b[0m \u001b[0morder\u001b[0m\u001b[0;34m,\u001b[0m \u001b[0mhue_order\u001b[0m\u001b[0;34m)\u001b[0m\u001b[0;34m\u001b[0m\u001b[0;34m\u001b[0m\u001b[0m\n\u001b[0m\u001b[1;32m    407\u001b[0m         \u001b[0mself\u001b[0m\u001b[0;34m.\u001b[0m\u001b[0mestablish_colors\u001b[0m\u001b[0;34m(\u001b[0m\u001b[0mcolor\u001b[0m\u001b[0;34m,\u001b[0m \u001b[0mpalette\u001b[0m\u001b[0;34m,\u001b[0m \u001b[0msaturation\u001b[0m\u001b[0;34m)\u001b[0m\u001b[0;34m\u001b[0m\u001b[0;34m\u001b[0m\u001b[0m\n\u001b[1;32m    408\u001b[0m \u001b[0;34m\u001b[0m\u001b[0m\n",
      "\u001b[0;32m/usr/local/lib/python3.9/site-packages/seaborn/categorical.py\u001b[0m in \u001b[0;36mestablish_variables\u001b[0;34m(self, x, y, hue, data, orient, order, hue_order, units)\u001b[0m\n\u001b[1;32m    154\u001b[0m \u001b[0;34m\u001b[0m\u001b[0m\n\u001b[1;32m    155\u001b[0m             \u001b[0;31m# Figure out the plotting orientation\u001b[0m\u001b[0;34m\u001b[0m\u001b[0;34m\u001b[0m\u001b[0;34m\u001b[0m\u001b[0m\n\u001b[0;32m--> 156\u001b[0;31m             orient = infer_orient(\n\u001b[0m\u001b[1;32m    157\u001b[0m                 \u001b[0mx\u001b[0m\u001b[0;34m,\u001b[0m \u001b[0my\u001b[0m\u001b[0;34m,\u001b[0m \u001b[0morient\u001b[0m\u001b[0;34m,\u001b[0m \u001b[0mrequire_numeric\u001b[0m\u001b[0;34m=\u001b[0m\u001b[0mself\u001b[0m\u001b[0;34m.\u001b[0m\u001b[0mrequire_numeric\u001b[0m\u001b[0;34m\u001b[0m\u001b[0;34m\u001b[0m\u001b[0m\n\u001b[1;32m    158\u001b[0m             )\n",
      "\u001b[0;32m/usr/local/lib/python3.9/site-packages/seaborn/_core.py\u001b[0m in \u001b[0;36minfer_orient\u001b[0;34m(x, y, orient, require_numeric)\u001b[0m\n\u001b[1;32m   1319\u001b[0m             \u001b[0mwarnings\u001b[0m\u001b[0;34m.\u001b[0m\u001b[0mwarn\u001b[0m\u001b[0;34m(\u001b[0m\u001b[0msingle_var_warning\u001b[0m\u001b[0;34m.\u001b[0m\u001b[0mformat\u001b[0m\u001b[0;34m(\u001b[0m\u001b[0;34m\"Vertical\"\u001b[0m\u001b[0;34m,\u001b[0m \u001b[0;34m\"x\"\u001b[0m\u001b[0;34m)\u001b[0m\u001b[0;34m)\u001b[0m\u001b[0;34m\u001b[0m\u001b[0;34m\u001b[0m\u001b[0m\n\u001b[1;32m   1320\u001b[0m         \u001b[0;32mif\u001b[0m \u001b[0mrequire_numeric\u001b[0m \u001b[0;32mand\u001b[0m \u001b[0mx_type\u001b[0m \u001b[0;34m!=\u001b[0m \u001b[0;34m\"numeric\"\u001b[0m\u001b[0;34m:\u001b[0m\u001b[0;34m\u001b[0m\u001b[0;34m\u001b[0m\u001b[0m\n\u001b[0;32m-> 1321\u001b[0;31m             \u001b[0;32mraise\u001b[0m \u001b[0mTypeError\u001b[0m\u001b[0;34m(\u001b[0m\u001b[0mnonnumeric_dv_error\u001b[0m\u001b[0;34m.\u001b[0m\u001b[0mformat\u001b[0m\u001b[0;34m(\u001b[0m\u001b[0;34m\"Horizontal\"\u001b[0m\u001b[0;34m,\u001b[0m \u001b[0;34m\"x\"\u001b[0m\u001b[0;34m)\u001b[0m\u001b[0;34m)\u001b[0m\u001b[0;34m\u001b[0m\u001b[0;34m\u001b[0m\u001b[0m\n\u001b[0m\u001b[1;32m   1322\u001b[0m         \u001b[0;32mreturn\u001b[0m \u001b[0;34m\"h\"\u001b[0m\u001b[0;34m\u001b[0m\u001b[0;34m\u001b[0m\u001b[0m\n\u001b[1;32m   1323\u001b[0m \u001b[0;34m\u001b[0m\u001b[0m\n",
      "\u001b[0;31mTypeError\u001b[0m: Horizontal orientation requires numeric `x` variable."
     ]
    },
    {
     "data": {
      "image/png": "[encoded data removed]",
      "text/plain": [
       "<Figure size 1296x360 with 2 Axes>"
      ]
     },
     "metadata": {},
     "output_type": "display_data"
    }
   ],
   "source": [
    "plots_discrete_var(data_discrete)"
   ]
  },
  {
   "cell_type": "code",
   "execution_count": 35,
   "id": "bc6ef1a8-ce24-4ea3-8ff3-cf306fa00558",
   "metadata": {
    "collapsed": true,
    "jupyter": {
     "outputs_hidden": true
    },
    "tags": []
   },
   "outputs": [
    {
     "data": {
      "image/png": "[encoded data removed]",
      "text/plain": [
       "<Figure size 576x360 with 1 Axes>"
      ]
     },
     "metadata": {
      "needs_background": "light"
     },
     "output_type": "display_data"
    },
    {
     "data": {
      "image/png": "[encoded data removed]",
      "text/plain": [
       "<Figure size 576x360 with 1 Axes>"
      ]
     },
     "metadata": {
      "needs_background": "light"
     },
     "output_type": "display_data"
    },
    {
     "data": {
      "image/png": "[encoded data removed]",
      "text/plain": [
       "<Figure size 576x360 with 1 Axes>"
      ]
     },
     "metadata": {
      "needs_background": "light"
     },
     "output_type": "display_data"
    },
    {
     "data": {
      "image/png": "[encoded data removed]",
      "text/plain": [
       "<Figure size 576x360 with 1 Axes>"
      ]
     },
     "metadata": {
      "needs_background": "light"
     },
     "output_type": "display_data"
    },
    {
     "data": {
      "image/png": "[encoded data removed]",
      "text/plain": [
       "<Figure size 576x360 with 1 Axes>"
      ]
     },
     "metadata": {
      "needs_background": "light"
     },
     "output_type": "display_data"
    },
    {
     "data": {
      "image/png": "[encoded data removed]",
      "text/plain": [
       "<Figure size 576x360 with 1 Axes>"
      ]
     },
     "metadata": {
      "needs_background": "light"
     },
     "output_type": "display_data"
    },
    {
     "data": {
      "image/png": "[encoded data removed]",
      "text/plain": [
       "<Figure size 576x360 with 1 Axes>"
      ]
     },
     "metadata": {
      "needs_background": "light"
     },
     "output_type": "display_data"
    }
   ],
   "source": [
    "for column in data_discret:\n",
    "    plt.figure(figsize=(8,5))\n",
    "    sns.countplot(x=data_discret[column])\n",
    "    plt.show()"
   ]
  },
  {
   "cell_type": "code",
   "execution_count": 36,
   "id": "018f6056-5ccf-4b9c-8ca1-d008f21a9f3d",
   "metadata": {
    "collapsed": true,
    "jupyter": {
     "outputs_hidden": true
    },
    "tags": []
   },
   "outputs": [
    {
     "data": {
      "image/png": "[encoded data removed]",
      "text/plain": [
       "<Figure size 576x360 with 1 Axes>"
      ]
     },
     "metadata": {
      "needs_background": "light"
     },
     "output_type": "display_data"
    },
    {
     "data": {
      "image/png": "[encoded data removed]",
      "text/plain": [
       "<Figure size 576x360 with 1 Axes>"
      ]
     },
     "metadata": {
      "needs_background": "light"
     },
     "output_type": "display_data"
    },
    {
     "data": {
      "image/png": "[encoded data removed]",
      "text/plain": [
       "<Figure size 576x360 with 1 Axes>"
      ]
     },
     "metadata": {
      "needs_background": "light"
     },
     "output_type": "display_data"
    },
    {
     "data": {
      "image/png": "[encoded data removed]",
      "text/plain": [
       "<Figure size 576x360 with 1 Axes>"
      ]
     },
     "metadata": {
      "needs_background": "light"
     },
     "output_type": "display_data"
    }
   ],
   "source": [
    "for column in data_bln:\n",
    "    plt.figure(figsize=(8,5))\n",
    "    sns.countplot(x=data_bln[column])\n",
    "    plt.show()"
   ]
  },
  {
   "cell_type": "code",
   "execution_count": null,
   "id": "5c45bba6-9d8a-4410-8b24-44c776b3d9b3",
   "metadata": {},
   "outputs": [],
   "source": []
  },
  {
   "cell_type": "markdown",
   "id": "2e3b2cfe-d197-41ad-bc98-f14902fada19",
   "metadata": {},
   "source": [
    "# 5 Data processing\n",
    "\n",
    "### 5.1 Feature selection\n",
    "\n",
    "**Selection based on correlations**\n",
    "\n",
    "The correlation matrix in step 4.1 didn't reveal any features that should neccessarily be dropped. The correlation of 'average_balance' with 'q2_balance' and 'q3_balance' is high (0.75 and 0.8) but I would only consider it a save drop with a value above 0.8. "
   ]
  },
  {
   "cell_type": "markdown",
   "id": "3d6835c5-6bf3-4c75-8b03-83394cb35315",
   "metadata": {},
   "source": [
    "**Selection based on multicolinearity / Variance Inflation Factor (VIF)**"
   ]
  },
  {
   "cell_type": "code",
   "execution_count": 204,
   "id": "290c40ae-f0aa-4d7f-b1a6-948d17e46647",
   "metadata": {},
   "outputs": [
    {
     "data": {
      "text/plain": [
       "Index(['bank_accounts_open', 'credit_cards_held', 'homes_owned',\n",
       "       'household_size', 'average_balance', 'q1_balance', 'q2_balance',\n",
       "       'q3_balance', 'q4_balance'],\n",
       "      dtype='object')"
      ]
     },
     "execution_count": 204,
     "metadata": {},
     "output_type": "execute_result"
    }
   ],
   "source": [
    "data_num.columns"
   ]
  },
  {
   "cell_type": "code",
   "execution_count": 207,
   "id": "55ee7070-4531-4ece-805b-35abb0dc7b9b",
   "metadata": {},
   "outputs": [
    {
     "data": {
      "text/html": [
       "<div>\n",
       "<style scoped>\n",
       "    .dataframe tbody tr th:only-of-type {\n",
       "        vertical-align: middle;\n",
       "    }\n",
       "\n",
       "    .dataframe tbody tr th {\n",
       "        vertical-align: top;\n",
       "    }\n",
       "\n",
       "    .dataframe thead th {\n",
       "        text-align: right;\n",
       "    }\n",
       "</style>\n",
       "<table border=\"1\" class=\"dataframe\">\n",
       "  <thead>\n",
       "    <tr style=\"text-align: right;\">\n",
       "      <th></th>\n",
       "      <th>VIF Factor</th>\n",
       "      <th>features</th>\n",
       "    </tr>\n",
       "  </thead>\n",
       "  <tbody>\n",
       "    <tr>\n",
       "      <th>0</th>\n",
       "      <td>38.27</td>\n",
       "      <td>Intercept</td>\n",
       "    </tr>\n",
       "    <tr>\n",
       "      <th>1</th>\n",
       "      <td>1.00</td>\n",
       "      <td>bank_accounts_open</td>\n",
       "    </tr>\n",
       "    <tr>\n",
       "      <th>2</th>\n",
       "      <td>1.00</td>\n",
       "      <td>credit_cards_held</td>\n",
       "    </tr>\n",
       "    <tr>\n",
       "      <th>3</th>\n",
       "      <td>1.00</td>\n",
       "      <td>homes_owned</td>\n",
       "    </tr>\n",
       "    <tr>\n",
       "      <th>4</th>\n",
       "      <td>1.00</td>\n",
       "      <td>household_size</td>\n",
       "    </tr>\n",
       "    <tr>\n",
       "      <th>5</th>\n",
       "      <td>inf</td>\n",
       "      <td>average_balance</td>\n",
       "    </tr>\n",
       "    <tr>\n",
       "      <th>6</th>\n",
       "      <td>inf</td>\n",
       "      <td>q1_balance</td>\n",
       "    </tr>\n",
       "    <tr>\n",
       "      <th>7</th>\n",
       "      <td>inf</td>\n",
       "      <td>q2_balance</td>\n",
       "    </tr>\n",
       "    <tr>\n",
       "      <th>8</th>\n",
       "      <td>inf</td>\n",
       "      <td>q3_balance</td>\n",
       "    </tr>\n",
       "    <tr>\n",
       "      <th>9</th>\n",
       "      <td>inf</td>\n",
       "      <td>q4_balance</td>\n",
       "    </tr>\n",
       "  </tbody>\n",
       "</table>\n",
       "</div>"
      ],
      "text/plain": [
       "   VIF Factor            features\n",
       "0       38.27           Intercept\n",
       "1        1.00  bank_accounts_open\n",
       "2        1.00   credit_cards_held\n",
       "3        1.00         homes_owned\n",
       "4        1.00      household_size\n",
       "5         inf     average_balance\n",
       "6         inf          q1_balance\n",
       "7         inf          q2_balance\n",
       "8         inf          q3_balance\n",
       "9         inf          q4_balance"
      ]
     },
     "execution_count": 207,
     "metadata": {},
     "output_type": "execute_result"
    }
   ],
   "source": [
    "features = \"+\".join(['bank_accounts_open', 'credit_cards_held', 'homes_owned', 'household_size', 'average_balance',\n",
    "                     'q1_balance', 'q2_balance', 'q3_balance', 'q4_balance'])\n",
    "\n",
    "VIF_y, VIF_X = dmatrices('offer_accepted ~' + features, data, return_type='dataframe')\n",
    "\n",
    "vif = pd.DataFrame()\n",
    "vif[\"VIF Factor\"] = [variance_inflation_factor(VIF_X.values, i) for i in range(VIF_X.shape[1])]\n",
    "vif[\"features\"] = VIF_X.columns\n",
    "\n",
    "vif.round(2)"
   ]
  },
  {
   "cell_type": "markdown",
   "id": "42722037-1b91-4674-9e7d-9feafc879451",
   "metadata": {},
   "source": [
    "> **Conclusion:** ..."
   ]
  },
  {
   "cell_type": "markdown",
   "id": "d58b36b0-b8dc-4ec4-bc4c-4fcc50b943b2",
   "metadata": {},
   "source": []
  },
  {
   "cell_type": "markdown",
   "id": "63aeeb1c-6870-4dfe-8a09-0cd14e1130c1",
   "metadata": {},
   "source": [
    "**Selection of categorical features / Chi2 Test**\n",
    "\n",
    "- Description Chi2 Test\n",
    "- Description function"
   ]
  },
  {
   "cell_type": "code",
   "execution_count": 69,
   "id": "84ee2293-7307-4030-a8f2-f4ee7e390e18",
   "metadata": {
    "tags": []
   },
   "outputs": [],
   "source": [
    "# neccessary import: 'from scipy.stats import chi2'\n",
    "\n",
    "def chi2_check(df, conf=95):\n",
    "    # create dfs for chi2 calculated, diffrence between chi2 calculated and critical value, p-value\n",
    "    df_chi2calc = pd.DataFrame(index=df.columns, columns=df.columns)\n",
    "    df_chi2diff = pd.DataFrame(index=df.columns, columns=df.columns)\n",
    "    df_p = pd.DataFrame(index=df.columns, columns=df.columns)\n",
    "    \n",
    "    # creste array with critical values of chi2 distribution\n",
    "    p = np.array([0.05, 0.01, 0.001])\n",
    "    deg_f = np.array(range(1, 31)).reshape(-1, 1)\n",
    "    chi2_table = pd.DataFrame(chi2.isf(p, deg_f), columns=['95', '99', '99.9'])\n",
    "    \n",
    "    # fill dfs with values from chi2 tests\n",
    "    for i in df.columns:\n",
    "        for j in df.columns:\n",
    "            if i != j:\n",
    "                # chi2 calculated and p-value\n",
    "                data_crosstab = pd.crosstab(data[i], data[j], margins = False)\n",
    "                chi2_results = chi2_contingency(data_crosstab, correction=False)\n",
    "                df_chi2calc[i].loc[j] = round(chi2_results[0],2)\n",
    "                df_p[i].loc[j] = round(chi2_results[1],2)\n",
    "                \n",
    "                # diffrence between chi2 calculated and critical value\n",
    "                table_dof = chi2_results[2] - 1\n",
    "                for c in chi2_table.columns:\n",
    "                    if float(c) == conf:\n",
    "                        if chi2_results[2] < 30:\n",
    "                            df_chi2diff[i].loc[j] = round((chi2_results[0] - chi2_table[c].loc[table_dof]), 2)\n",
    "                        else:\n",
    "                            df_chi2diff[i].loc[j] = round((chi2_results[0] - chi2_table[c].loc[29]), 2)\n",
    "    \n",
    "    # filling values along the df diagonals with '-'\n",
    "    df_chi2calc = df_chi2calc.fillna('-')\n",
    "    df_chi2diff = df_chi2diff.fillna('-')\n",
    "    df_p = df_p.fillna('-')\n",
    "    \n",
    "    return df_chi2calc, df_chi2diff, df_p\n",
    "                                 "
   ]
  },
  {
   "cell_type": "code",
   "execution_count": 77,
   "id": "f11e50f9-2f9e-4d4f-aea6-6348342cea16",
   "metadata": {},
   "outputs": [],
   "source": [
    "data_cat = data.select_dtypes(np.object)\n",
    "\n",
    "data_chi2calculated, data_chi2difference, data_chi2p = chi2_check(data_cat)"
   ]
  },
  {
   "cell_type": "markdown",
   "id": "f92f2eac-fe77-46eb-80a4-b1858fd44416",
   "metadata": {},
   "source": [
    "**Overview of calculated chi2 values**"
   ]
  },
  {
   "cell_type": "code",
   "execution_count": 77,
   "id": "b17b25f3-8e10-4207-8f9b-714e0a3af91e",
   "metadata": {
    "tags": []
   },
   "outputs": [
    {
     "data": {
      "text/html": [
       "<div>\n",
       "<style scoped>\n",
       "    .dataframe tbody tr th:only-of-type {\n",
       "        vertical-align: middle;\n",
       "    }\n",
       "\n",
       "    .dataframe tbody tr th {\n",
       "        vertical-align: top;\n",
       "    }\n",
       "\n",
       "    .dataframe thead th {\n",
       "        text-align: right;\n",
       "    }\n",
       "</style>\n",
       "<table border=\"1\" class=\"dataframe\">\n",
       "  <thead>\n",
       "    <tr style=\"text-align: right;\">\n",
       "      <th></th>\n",
       "      <th>offer_accepted</th>\n",
       "      <th>reward</th>\n",
       "      <th>mailer_type</th>\n",
       "      <th>income_level</th>\n",
       "      <th>overdraft_protection</th>\n",
       "      <th>credit_rating</th>\n",
       "      <th>own_your_home</th>\n",
       "    </tr>\n",
       "  </thead>\n",
       "  <tbody>\n",
       "    <tr>\n",
       "      <th>offer_accepted</th>\n",
       "      <td>-</td>\n",
       "      <td>0.0</td>\n",
       "      <td>0.0</td>\n",
       "      <td>0.0</td>\n",
       "      <td>0.72</td>\n",
       "      <td>0.0</td>\n",
       "      <td>0.99</td>\n",
       "    </tr>\n",
       "    <tr>\n",
       "      <th>reward</th>\n",
       "      <td>0.0</td>\n",
       "      <td>-</td>\n",
       "      <td>0.67</td>\n",
       "      <td>0.66</td>\n",
       "      <td>0.44</td>\n",
       "      <td>0.66</td>\n",
       "      <td>0.39</td>\n",
       "    </tr>\n",
       "    <tr>\n",
       "      <th>mailer_type</th>\n",
       "      <td>0.0</td>\n",
       "      <td>0.67</td>\n",
       "      <td>-</td>\n",
       "      <td>0.59</td>\n",
       "      <td>0.7</td>\n",
       "      <td>0.72</td>\n",
       "      <td>0.56</td>\n",
       "    </tr>\n",
       "    <tr>\n",
       "      <th>income_level</th>\n",
       "      <td>0.0</td>\n",
       "      <td>0.66</td>\n",
       "      <td>0.59</td>\n",
       "      <td>-</td>\n",
       "      <td>0.54</td>\n",
       "      <td>0.56</td>\n",
       "      <td>0.34</td>\n",
       "    </tr>\n",
       "    <tr>\n",
       "      <th>overdraft_protection</th>\n",
       "      <td>0.72</td>\n",
       "      <td>0.44</td>\n",
       "      <td>0.7</td>\n",
       "      <td>0.54</td>\n",
       "      <td>-</td>\n",
       "      <td>0.51</td>\n",
       "      <td>0.26</td>\n",
       "    </tr>\n",
       "    <tr>\n",
       "      <th>credit_rating</th>\n",
       "      <td>0.0</td>\n",
       "      <td>0.66</td>\n",
       "      <td>0.72</td>\n",
       "      <td>0.56</td>\n",
       "      <td>0.51</td>\n",
       "      <td>-</td>\n",
       "      <td>0.59</td>\n",
       "    </tr>\n",
       "    <tr>\n",
       "      <th>own_your_home</th>\n",
       "      <td>0.99</td>\n",
       "      <td>0.39</td>\n",
       "      <td>0.56</td>\n",
       "      <td>0.34</td>\n",
       "      <td>0.26</td>\n",
       "      <td>0.59</td>\n",
       "      <td>-</td>\n",
       "    </tr>\n",
       "  </tbody>\n",
       "</table>\n",
       "</div>"
      ],
      "text/plain": [
       "                     offer_accepted reward mailer_type income_level  \\\n",
       "offer_accepted                    -    0.0         0.0          0.0   \n",
       "reward                          0.0      -        0.67         0.66   \n",
       "mailer_type                     0.0   0.67           -         0.59   \n",
       "income_level                    0.0   0.66        0.59            -   \n",
       "overdraft_protection           0.72   0.44         0.7         0.54   \n",
       "credit_rating                   0.0   0.66        0.72         0.56   \n",
       "own_your_home                  0.99   0.39        0.56         0.34   \n",
       "\n",
       "                     overdraft_protection credit_rating own_your_home  \n",
       "offer_accepted                       0.72           0.0          0.99  \n",
       "reward                               0.44          0.66          0.39  \n",
       "mailer_type                           0.7          0.72          0.56  \n",
       "income_level                         0.54          0.56          0.34  \n",
       "overdraft_protection                    -          0.51          0.26  \n",
       "credit_rating                        0.51             -          0.59  \n",
       "own_your_home                        0.26          0.59             -  "
      ]
     },
     "execution_count": 77,
     "metadata": {},
     "output_type": "execute_result"
    }
   ],
   "source": [
    "data_chi2calculated"
   ]
  },
  {
   "cell_type": "markdown",
   "id": "07a63af1-58a4-4a86-abcb-a7905c37d270",
   "metadata": {},
   "source": [
    "**Overview of diffences between calculated chi2 value and critical value**"
   ]
  },
  {
   "cell_type": "code",
   "execution_count": 79,
   "id": "25bde915-3178-4e01-a313-1405c3d19b4f",
   "metadata": {
    "tags": []
   },
   "outputs": [
    {
     "data": {
      "text/html": [
       "<div>\n",
       "<style scoped>\n",
       "    .dataframe tbody tr th:only-of-type {\n",
       "        vertical-align: middle;\n",
       "    }\n",
       "\n",
       "    .dataframe tbody tr th {\n",
       "        vertical-align: top;\n",
       "    }\n",
       "\n",
       "    .dataframe thead th {\n",
       "        text-align: right;\n",
       "    }\n",
       "</style>\n",
       "<table border=\"1\" class=\"dataframe\">\n",
       "  <thead>\n",
       "    <tr style=\"text-align: right;\">\n",
       "      <th></th>\n",
       "      <th>offer_accepted</th>\n",
       "      <th>reward</th>\n",
       "      <th>mailer_type</th>\n",
       "      <th>income_level</th>\n",
       "      <th>overdraft_protection</th>\n",
       "      <th>credit_rating</th>\n",
       "      <th>own_your_home</th>\n",
       "    </tr>\n",
       "  </thead>\n",
       "  <tbody>\n",
       "    <tr>\n",
       "      <th>offer_accepted</th>\n",
       "      <td>-</td>\n",
       "      <td>95.16</td>\n",
       "      <td>166.04</td>\n",
       "      <td>107.63</td>\n",
       "      <td>-3.71</td>\n",
       "      <td>439.07</td>\n",
       "      <td>-3.84</td>\n",
       "    </tr>\n",
       "    <tr>\n",
       "      <th>reward</th>\n",
       "      <td>95.16</td>\n",
       "      <td>-</td>\n",
       "      <td>-5.18</td>\n",
       "      <td>-7.07</td>\n",
       "      <td>-4.33</td>\n",
       "      <td>-7.09</td>\n",
       "      <td>-4.12</td>\n",
       "    </tr>\n",
       "    <tr>\n",
       "      <th>mailer_type</th>\n",
       "      <td>166.04</td>\n",
       "      <td>-5.18</td>\n",
       "      <td>-</td>\n",
       "      <td>-4.92</td>\n",
       "      <td>-3.69</td>\n",
       "      <td>-5.34</td>\n",
       "      <td>-3.51</td>\n",
       "    </tr>\n",
       "    <tr>\n",
       "      <th>income_level</th>\n",
       "      <td>107.63</td>\n",
       "      <td>-7.07</td>\n",
       "      <td>-4.92</td>\n",
       "      <td>-</td>\n",
       "      <td>-4.77</td>\n",
       "      <td>-6.51</td>\n",
       "      <td>-3.83</td>\n",
       "    </tr>\n",
       "    <tr>\n",
       "      <th>overdraft_protection</th>\n",
       "      <td>-3.71</td>\n",
       "      <td>-4.33</td>\n",
       "      <td>-3.69</td>\n",
       "      <td>-4.77</td>\n",
       "      <td>-</td>\n",
       "      <td>-4.64</td>\n",
       "      <td>-2.56</td>\n",
       "    </tr>\n",
       "    <tr>\n",
       "      <th>credit_rating</th>\n",
       "      <td>439.07</td>\n",
       "      <td>-7.09</td>\n",
       "      <td>-5.34</td>\n",
       "      <td>-6.51</td>\n",
       "      <td>-4.64</td>\n",
       "      <td>-</td>\n",
       "      <td>-4.93</td>\n",
       "    </tr>\n",
       "    <tr>\n",
       "      <th>own_your_home</th>\n",
       "      <td>-3.84</td>\n",
       "      <td>-4.12</td>\n",
       "      <td>-3.51</td>\n",
       "      <td>-3.83</td>\n",
       "      <td>-2.56</td>\n",
       "      <td>-4.93</td>\n",
       "      <td>-</td>\n",
       "    </tr>\n",
       "  </tbody>\n",
       "</table>\n",
       "</div>"
      ],
      "text/plain": [
       "                     offer_accepted reward mailer_type income_level  \\\n",
       "offer_accepted                    -  95.16      166.04       107.63   \n",
       "reward                        95.16      -       -5.18        -7.07   \n",
       "mailer_type                  166.04  -5.18           -        -4.92   \n",
       "income_level                 107.63  -7.07       -4.92            -   \n",
       "overdraft_protection          -3.71  -4.33       -3.69        -4.77   \n",
       "credit_rating                439.07  -7.09       -5.34        -6.51   \n",
       "own_your_home                 -3.84  -4.12       -3.51        -3.83   \n",
       "\n",
       "                     overdraft_protection credit_rating own_your_home  \n",
       "offer_accepted                      -3.71        439.07         -3.84  \n",
       "reward                              -4.33         -7.09         -4.12  \n",
       "mailer_type                         -3.69         -5.34         -3.51  \n",
       "income_level                        -4.77         -6.51         -3.83  \n",
       "overdraft_protection                    -         -4.64         -2.56  \n",
       "credit_rating                       -4.64             -         -4.93  \n",
       "own_your_home                       -2.56         -4.93             -  "
      ]
     },
     "execution_count": 79,
     "metadata": {},
     "output_type": "execute_result"
    }
   ],
   "source": [
    "data_chi2difference"
   ]
  },
  {
   "cell_type": "markdown",
   "id": "8a85b112-631f-475e-bf4c-bd316b5a8ae9",
   "metadata": {},
   "source": [
    "**Overview of p values**"
   ]
  },
  {
   "cell_type": "code",
   "execution_count": 80,
   "id": "e138e829-cc08-418d-be12-8fd721ead93d",
   "metadata": {},
   "outputs": [
    {
     "data": {
      "text/html": [
       "<div>\n",
       "<style scoped>\n",
       "    .dataframe tbody tr th:only-of-type {\n",
       "        vertical-align: middle;\n",
       "    }\n",
       "\n",
       "    .dataframe tbody tr th {\n",
       "        vertical-align: top;\n",
       "    }\n",
       "\n",
       "    .dataframe thead th {\n",
       "        text-align: right;\n",
       "    }\n",
       "</style>\n",
       "<table border=\"1\" class=\"dataframe\">\n",
       "  <thead>\n",
       "    <tr style=\"text-align: right;\">\n",
       "      <th></th>\n",
       "      <th>offer_accepted</th>\n",
       "      <th>reward</th>\n",
       "      <th>mailer_type</th>\n",
       "      <th>income_level</th>\n",
       "      <th>overdraft_protection</th>\n",
       "      <th>credit_rating</th>\n",
       "      <th>own_your_home</th>\n",
       "    </tr>\n",
       "  </thead>\n",
       "  <tbody>\n",
       "    <tr>\n",
       "      <th>offer_accepted</th>\n",
       "      <td>-</td>\n",
       "      <td>0.0</td>\n",
       "      <td>0.0</td>\n",
       "      <td>0.0</td>\n",
       "      <td>0.72</td>\n",
       "      <td>0.0</td>\n",
       "      <td>0.99</td>\n",
       "    </tr>\n",
       "    <tr>\n",
       "      <th>reward</th>\n",
       "      <td>0.0</td>\n",
       "      <td>-</td>\n",
       "      <td>0.67</td>\n",
       "      <td>0.66</td>\n",
       "      <td>0.44</td>\n",
       "      <td>0.66</td>\n",
       "      <td>0.39</td>\n",
       "    </tr>\n",
       "    <tr>\n",
       "      <th>mailer_type</th>\n",
       "      <td>0.0</td>\n",
       "      <td>0.67</td>\n",
       "      <td>-</td>\n",
       "      <td>0.59</td>\n",
       "      <td>0.7</td>\n",
       "      <td>0.72</td>\n",
       "      <td>0.56</td>\n",
       "    </tr>\n",
       "    <tr>\n",
       "      <th>income_level</th>\n",
       "      <td>0.0</td>\n",
       "      <td>0.66</td>\n",
       "      <td>0.59</td>\n",
       "      <td>-</td>\n",
       "      <td>0.54</td>\n",
       "      <td>0.56</td>\n",
       "      <td>0.34</td>\n",
       "    </tr>\n",
       "    <tr>\n",
       "      <th>overdraft_protection</th>\n",
       "      <td>0.72</td>\n",
       "      <td>0.44</td>\n",
       "      <td>0.7</td>\n",
       "      <td>0.54</td>\n",
       "      <td>-</td>\n",
       "      <td>0.51</td>\n",
       "      <td>0.26</td>\n",
       "    </tr>\n",
       "    <tr>\n",
       "      <th>credit_rating</th>\n",
       "      <td>0.0</td>\n",
       "      <td>0.66</td>\n",
       "      <td>0.72</td>\n",
       "      <td>0.56</td>\n",
       "      <td>0.51</td>\n",
       "      <td>-</td>\n",
       "      <td>0.59</td>\n",
       "    </tr>\n",
       "    <tr>\n",
       "      <th>own_your_home</th>\n",
       "      <td>0.99</td>\n",
       "      <td>0.39</td>\n",
       "      <td>0.56</td>\n",
       "      <td>0.34</td>\n",
       "      <td>0.26</td>\n",
       "      <td>0.59</td>\n",
       "      <td>-</td>\n",
       "    </tr>\n",
       "  </tbody>\n",
       "</table>\n",
       "</div>"
      ],
      "text/plain": [
       "                     offer_accepted reward mailer_type income_level  \\\n",
       "offer_accepted                    -    0.0         0.0          0.0   \n",
       "reward                          0.0      -        0.67         0.66   \n",
       "mailer_type                     0.0   0.67           -         0.59   \n",
       "income_level                    0.0   0.66        0.59            -   \n",
       "overdraft_protection           0.72   0.44         0.7         0.54   \n",
       "credit_rating                   0.0   0.66        0.72         0.56   \n",
       "own_your_home                  0.99   0.39        0.56         0.34   \n",
       "\n",
       "                     overdraft_protection credit_rating own_your_home  \n",
       "offer_accepted                       0.72           0.0          0.99  \n",
       "reward                               0.44          0.66          0.39  \n",
       "mailer_type                           0.7          0.72          0.56  \n",
       "income_level                         0.54          0.56          0.34  \n",
       "overdraft_protection                    -          0.51          0.26  \n",
       "credit_rating                        0.51             -          0.59  \n",
       "own_your_home                        0.26          0.59             -  "
      ]
     },
     "execution_count": 80,
     "metadata": {},
     "output_type": "execute_result"
    }
   ],
   "source": [
    "data_chi2p"
   ]
  },
  {
   "cell_type": "markdown",
   "id": "86fd06da-e21c-4285-b45f-92d60ba159d9",
   "metadata": {},
   "source": [
    "> **Conclusions:**\n",
    "    No drops - DETAILS"
   ]
  },
  {
   "cell_type": "markdown",
   "id": "d108a054-e56c-41de-b00b-20b2fc7b9c0d",
   "metadata": {},
   "source": []
  },
  {
   "cell_type": "markdown",
   "id": "4db7d465-2755-4fa6-9f31-339984fb1618",
   "metadata": {},
   "source": []
  },
  {
   "cell_type": "code",
   "execution_count": null,
   "id": "46f37496-ffe6-4191-ba9f-eec72c873aee",
   "metadata": {},
   "outputs": [],
   "source": []
  },
  {
   "cell_type": "markdown",
   "id": "78ac69c8-6ad4-43a1-a80f-bdf4869f50f2",
   "metadata": {},
   "source": [
    "### 5.2 Feature engineering\n",
    "\n",
    "**Numerical variables**\n",
    "\n",
    "No changes until after baseline model"
   ]
  },
  {
   "cell_type": "code",
   "execution_count": null,
   "id": "ad0bc8c7-88ab-4106-bfb0-e7d7eb5803cc",
   "metadata": {},
   "outputs": [],
   "source": []
  },
  {
   "cell_type": "markdown",
   "id": "46c7c029-f0d0-408a-bb39-d3387b4904cd",
   "metadata": {},
   "source": [
    "**Categorical variables (Encoding)**"
   ]
  },
  {
   "cell_type": "code",
   "execution_count": 88,
   "id": "1b9350c6-9ee5-4ada-9ffb-3c38a01f1c88",
   "metadata": {},
   "outputs": [
    {
     "data": {
      "text/html": [
       "<div>\n",
       "<style scoped>\n",
       "    .dataframe tbody tr th:only-of-type {\n",
       "        vertical-align: middle;\n",
       "    }\n",
       "\n",
       "    .dataframe tbody tr th {\n",
       "        vertical-align: top;\n",
       "    }\n",
       "\n",
       "    .dataframe thead th {\n",
       "        text-align: right;\n",
       "    }\n",
       "</style>\n",
       "<table border=\"1\" class=\"dataframe\">\n",
       "  <thead>\n",
       "    <tr style=\"text-align: right;\">\n",
       "      <th></th>\n",
       "      <th>reward_Cash Back</th>\n",
       "      <th>reward_Points</th>\n",
       "      <th>mailer_type_Postcard</th>\n",
       "      <th>overdraft_protection_Yes</th>\n",
       "      <th>own_your_home_Yes</th>\n",
       "    </tr>\n",
       "    <tr>\n",
       "      <th>id</th>\n",
       "      <th></th>\n",
       "      <th></th>\n",
       "      <th></th>\n",
       "      <th></th>\n",
       "      <th></th>\n",
       "    </tr>\n",
       "  </thead>\n",
       "  <tbody>\n",
       "    <tr>\n",
       "      <th>1</th>\n",
       "      <td>0</td>\n",
       "      <td>0</td>\n",
       "      <td>0</td>\n",
       "      <td>0</td>\n",
       "      <td>0</td>\n",
       "    </tr>\n",
       "    <tr>\n",
       "      <th>2</th>\n",
       "      <td>0</td>\n",
       "      <td>0</td>\n",
       "      <td>0</td>\n",
       "      <td>0</td>\n",
       "      <td>1</td>\n",
       "    </tr>\n",
       "    <tr>\n",
       "      <th>3</th>\n",
       "      <td>0</td>\n",
       "      <td>0</td>\n",
       "      <td>1</td>\n",
       "      <td>0</td>\n",
       "      <td>1</td>\n",
       "    </tr>\n",
       "    <tr>\n",
       "      <th>4</th>\n",
       "      <td>0</td>\n",
       "      <td>0</td>\n",
       "      <td>0</td>\n",
       "      <td>0</td>\n",
       "      <td>0</td>\n",
       "    </tr>\n",
       "    <tr>\n",
       "      <th>5</th>\n",
       "      <td>0</td>\n",
       "      <td>0</td>\n",
       "      <td>0</td>\n",
       "      <td>0</td>\n",
       "      <td>1</td>\n",
       "    </tr>\n",
       "  </tbody>\n",
       "</table>\n",
       "</div>"
      ],
      "text/plain": [
       "    reward_Cash Back  reward_Points  mailer_type_Postcard  \\\n",
       "id                                                          \n",
       "1                  0              0                     0   \n",
       "2                  0              0                     0   \n",
       "3                  0              0                     1   \n",
       "4                  0              0                     0   \n",
       "5                  0              0                     0   \n",
       "\n",
       "    overdraft_protection_Yes  own_your_home_Yes  \n",
       "id                                               \n",
       "1                          0                  0  \n",
       "2                          0                  1  \n",
       "3                          0                  1  \n",
       "4                          0                  0  \n",
       "5                          0                  1  "
      ]
     },
     "execution_count": 88,
     "metadata": {},
     "output_type": "execute_result"
    }
   ],
   "source": [
    "# Get dummies encoding\n",
    "\n",
    "data_dummies = data_cat.drop(['income_level', 'credit_rating', 'offer_accepted'], axis=1)\n",
    "data_dummies = pd.get_dummies(data_dummies, drop_first=True)\n",
    "\n",
    "data_dummies.head()"
   ]
  },
  {
   "cell_type": "code",
   "execution_count": 86,
   "id": "7cf6f385-9f46-4ad8-a8a0-9515a019c7cb",
   "metadata": {},
   "outputs": [
    {
     "data": {
      "text/html": [
       "<div>\n",
       "<style scoped>\n",
       "    .dataframe tbody tr th:only-of-type {\n",
       "        vertical-align: middle;\n",
       "    }\n",
       "\n",
       "    .dataframe tbody tr th {\n",
       "        vertical-align: top;\n",
       "    }\n",
       "\n",
       "    .dataframe thead th {\n",
       "        text-align: right;\n",
       "    }\n",
       "</style>\n",
       "<table border=\"1\" class=\"dataframe\">\n",
       "  <thead>\n",
       "    <tr style=\"text-align: right;\">\n",
       "      <th></th>\n",
       "      <th>income_level</th>\n",
       "      <th>credit_rating</th>\n",
       "    </tr>\n",
       "    <tr>\n",
       "      <th>id</th>\n",
       "      <th></th>\n",
       "      <th></th>\n",
       "    </tr>\n",
       "  </thead>\n",
       "  <tbody>\n",
       "    <tr>\n",
       "      <th>1</th>\n",
       "      <td>3</td>\n",
       "      <td>3</td>\n",
       "    </tr>\n",
       "    <tr>\n",
       "      <th>2</th>\n",
       "      <td>2</td>\n",
       "      <td>2</td>\n",
       "    </tr>\n",
       "    <tr>\n",
       "      <th>3</th>\n",
       "      <td>3</td>\n",
       "      <td>2</td>\n",
       "    </tr>\n",
       "    <tr>\n",
       "      <th>4</th>\n",
       "      <td>2</td>\n",
       "      <td>3</td>\n",
       "    </tr>\n",
       "    <tr>\n",
       "      <th>5</th>\n",
       "      <td>2</td>\n",
       "      <td>2</td>\n",
       "    </tr>\n",
       "  </tbody>\n",
       "</table>\n",
       "</div>"
      ],
      "text/plain": [
       "    income_level  credit_rating\n",
       "id                             \n",
       "1              3              3\n",
       "2              2              2\n",
       "3              3              2\n",
       "4              2              3\n",
       "5              2              2"
      ]
     },
     "execution_count": 86,
     "metadata": {},
     "output_type": "execute_result"
    }
   ],
   "source": [
    "# ordinal encoding\n",
    "\n",
    "data_ord = data_cat.drop(['offer_accepted', 'reward', 'mailer_type', 'overdraft_protection', 'own_your_home'], axis=1)\n",
    "\n",
    "data_ord['income_level'] = data_ord['income_level'].map({'Low' : 1, 'Medium' : 2, 'High' : 3})\n",
    "data_ord['credit_rating'] = data_ord['credit_rating'].map({'Low' : 1, 'Medium' : 2, 'High' : 3})\n",
    "\n",
    "data_ord.head()"
   ]
  },
  {
   "cell_type": "code",
   "execution_count": null,
   "id": "b64362a5-7313-4b65-af6e-8a71d683aefe",
   "metadata": {},
   "outputs": [],
   "source": []
  },
  {
   "cell_type": "markdown",
   "id": "8cde3582-10f6-4521-ac21-58b50e57636b",
   "metadata": {},
   "source": [
    "# 6 Baseline model\n",
    "\n",
    "### 6.1. x-y-split"
   ]
  },
  {
   "cell_type": "code",
   "execution_count": 153,
   "id": "5fedeb1e-08d4-4393-97b5-6ebe5cf9beae",
   "metadata": {},
   "outputs": [
    {
     "data": {
      "text/html": [
       "<div>\n",
       "<style scoped>\n",
       "    .dataframe tbody tr th:only-of-type {\n",
       "        vertical-align: middle;\n",
       "    }\n",
       "\n",
       "    .dataframe tbody tr th {\n",
       "        vertical-align: top;\n",
       "    }\n",
       "\n",
       "    .dataframe thead th {\n",
       "        text-align: right;\n",
       "    }\n",
       "</style>\n",
       "<table border=\"1\" class=\"dataframe\">\n",
       "  <thead>\n",
       "    <tr style=\"text-align: right;\">\n",
       "      <th></th>\n",
       "      <th>offer_accepted</th>\n",
       "    </tr>\n",
       "    <tr>\n",
       "      <th>id</th>\n",
       "      <th></th>\n",
       "    </tr>\n",
       "  </thead>\n",
       "  <tbody>\n",
       "    <tr>\n",
       "      <th>1</th>\n",
       "      <td>No</td>\n",
       "    </tr>\n",
       "    <tr>\n",
       "      <th>2</th>\n",
       "      <td>No</td>\n",
       "    </tr>\n",
       "    <tr>\n",
       "      <th>3</th>\n",
       "      <td>No</td>\n",
       "    </tr>\n",
       "    <tr>\n",
       "      <th>4</th>\n",
       "      <td>No</td>\n",
       "    </tr>\n",
       "    <tr>\n",
       "      <th>5</th>\n",
       "      <td>No</td>\n",
       "    </tr>\n",
       "  </tbody>\n",
       "</table>\n",
       "</div>"
      ],
      "text/plain": [
       "   offer_accepted\n",
       "id               \n",
       "1              No\n",
       "2              No\n",
       "3              No\n",
       "4              No\n",
       "5              No"
      ]
     },
     "execution_count": 153,
     "metadata": {},
     "output_type": "execute_result"
    }
   ],
   "source": [
    "data_num = data.select_dtypes(np.number)\n",
    "\n",
    "data_X = pd.concat([data_num, data_dummies, data_ord], axis=1)\n",
    "y = pd.DataFrame(data['offer_accepted'])"
   ]
  },
  {
   "cell_type": "code",
   "execution_count": null,
   "id": "202b906e-83d0-41bd-9674-f584d22464c5",
   "metadata": {},
   "outputs": [],
   "source": []
  },
  {
   "cell_type": "markdown",
   "id": "531c4c35-f2b9-4ceb-af2d-788da83a8331",
   "metadata": {},
   "source": [
    "### 6.2 Solving Data imbalance\n",
    "\n",
    "**Strategies**"
   ]
  },
  {
   "cell_type": "code",
   "execution_count": 126,
   "id": "5638f55c-afb7-4d46-ab96-c2c1e618ce11",
   "metadata": {},
   "outputs": [
    {
     "data": {
      "text/plain": [
       "No     16955\n",
       "Yes     1021\n",
       "Name: offer_accepted, dtype: int64"
      ]
     },
     "execution_count": 126,
     "metadata": {},
     "output_type": "execute_result"
    }
   ],
   "source": [
    "y['offer_accepted'].value_counts()"
   ]
  },
  {
   "cell_type": "markdown",
   "id": "7e243286-99f0-4614-b416-e5b985a81752",
   "metadata": {},
   "source": [
    "Comparing different strategies to pick the best performance for baseline model. Not TomekLinks because it's only useful for smaller class imbalances.\n",
    "\n",
    "- Downsamling\n",
    "- Up-/Downsampling Mix\n",
    "- SMOTE\n",
    "- Class weighting\n",
    "\n"
   ]
  },
  {
   "cell_type": "code",
   "execution_count": null,
   "id": "21051d80-ad5e-4284-bafc-2053be4a54e0",
   "metadata": {},
   "outputs": [],
   "source": []
  },
  {
   "cell_type": "markdown",
   "id": "9033c059-f660-43c3-b0b7-7568cc3e2a0a",
   "metadata": {},
   "source": [
    "**Balanceing and Classification**"
   ]
  },
  {
   "cell_type": "code",
   "execution_count": 199,
   "id": "8241dcb5-ad73-46b3-8044-8543540f1f34",
   "metadata": {},
   "outputs": [],
   "source": [
    "# function to deal with class imbalances in binary classification\n",
    "# requires import 'math', 'from imblearn.over_sampling import SMOTE', 'from sklearn.metrics import confusion_matrix', 'from sklearn.metrics import plot_confusion_matrix' \n",
    "\n",
    "def balanced_classification(x, y, method='down', ratio=1.5):\n",
    "    # Train-Test-Split\n",
    "    imb_X, test_X, imb_Y, test_Y = train_test_split(data_X, y, test_size=0.2, random_state=96)\n",
    "    \n",
    "    # values to navigate target variable\n",
    "    target_col = list(imb_Y.columns.values)[0]\n",
    "    values_sorted = imb_Y[target_col].value_counts()\n",
    "    train_imbalanced = pd.concat([imb_X, imb_Y], axis=1)\n",
    "    \n",
    "    # the balanced training test has to be equal to the imbalanced in case method == weights\n",
    "    bal_X = imb_X\n",
    "    bal_Y = imb_Y\n",
    "    \n",
    "    # class weights set to 1 in case method != weights\n",
    "    weights = {values_sorted.index[0]: 1, \n",
    "               values_sorted.index[1]: 1}\n",
    "    \n",
    "    # SMOTE\n",
    "    if method == 'smo':\n",
    "        smote = SMOTE()\n",
    "        bal_X, bal_Y = smote.fit_resample(imb_X, imb_Y)\n",
    "    \n",
    "    # Class weighting\n",
    "    elif method == 'wgx':\n",
    "        total = sum(values_sorted)      \n",
    "        weights = {values_sorted.index[0]: total/(2*ratio*values_sorted[0]), \n",
    "                   values_sorted.index[1]: total/(2*values_sorted[1])}\n",
    "    \n",
    "    else:    \n",
    "        # Downsampling\n",
    "        if method == 'down':\n",
    "            sample_size = values_sorted[1]\n",
    "            maj_class = train_imbalanced[train_imbalanced[target_col] == values_sorted.index[0]].sample(round(sample_size*ratio))\n",
    "            min_class = train_imbalanced[train_imbalanced[target_col] == values_sorted.index[1]].sample(sample_size)\n",
    "    \n",
    "        # Upsampling    \n",
    "        elif method == 'up':\n",
    "            sample_size = values_sorted[0]\n",
    "            maj_class = train_imbalanced[train_imbalanced[target_col] == values_sorted.index[0]].sample(sample_size)\n",
    "            min_class = train_imbalanced[train_imbalanced[target_col] == values_sorted.index[1]].sample(round(sample_size/ratio), replace=True)\n",
    "\n",
    "        # Mix Up-/Downsampling\n",
    "        elif method == 'mix':\n",
    "            sample_size = values_sorted[1]\n",
    "            imbalance_factor = math.floor(values_sorted[0]/values_sorted[1])\n",
    "            sample_factor = math.floor(imbalance_factor/3)\n",
    "            maj_class = train_imbalanced[train_imbalanced[target_col] == values_sorted.index[0]].sample(round(sample_size*sample_factor*ratio))\n",
    "            min_class = train_imbalanced[train_imbalanced[target_col] == values_sorted.index[1]].sample(round(sample_size*sample_factor), replace=True)\n",
    "          \n",
    "        train_sampled = pd.concat([maj_class, min_class]).sample(frac=1)\n",
    "        # creating dfs of balanced classes to return\n",
    "        bal_X = train_sampled.drop([target_col], axis=1)\n",
    "        bal_Y = pd.DataFrame(train_sampled[target_col])\n",
    "\n",
    "    # model execution\n",
    "    classification_balanced = LogisticRegression(random_state=23, max_iter=10000, class_weight=weights)\n",
    "    classification_balanced.fit(bal_X, bal_Y)\n",
    "    \n",
    "    # predictions and report\n",
    "    predictions_balanced = classification_balanced.predict(test_X)\n",
    "    report_balanced = pd.DataFrame(metrics.classification_report(test_Y, predictions_balanced, output_dict=True)).transpose()\n",
    "    \n",
    "    # confusion matrix plot\n",
    "    cf_matrix = confusion_matrix(test_Y, predictions_balanced)\n",
    "    group1 = 'True ' + values_sorted.index[0]\n",
    "    group2 = 'False ' + values_sorted.index[0]\n",
    "    group3 = 'False ' + values_sorted.index[1]\n",
    "    group4 = 'True ' + values_sorted.index[1]\n",
    "    group_names = [group1, group2, group3, group4]\n",
    "    group_counts = [\"{0:0.0f}\".format(value) for value in cf_matrix.flatten()]\n",
    "    group_percentages = [\"{0:.2%}\".format(value) for value in cf_matrix.flatten()/np.sum(cf_matrix)]\n",
    "    labels = [f\"{v1}\\n{v2}\\n{v3}\" for v1, v2, v3 in zip(group_names,group_counts,group_percentages)]\n",
    "    labels = np.asarray(labels).reshape(2,2)\n",
    "    cfnmx_plot = sns.heatmap(cf_matrix, annot=labels, fmt='', cmap='Blues')\n",
    "\n",
    "    return bal_X, bal_Y, test_X, test_Y, classification_balanced, predictions_balanced, report_balanced, cfnmx_plot\n",
    "    \n",
    "    "
   ]
  },
  {
   "cell_type": "code",
   "execution_count": null,
   "id": "232c975b-f50c-422f-bbfd-2ea26313572b",
   "metadata": {},
   "outputs": [],
   "source": []
  },
  {
   "cell_type": "markdown",
   "id": "0a5e0950-595d-4160-9e07-fcf0a137fb02",
   "metadata": {},
   "source": [
    "**Model A1: Linear Regression w/ Downsampling**"
   ]
  },
  {
   "cell_type": "code",
   "execution_count": 200,
   "id": "7b6583e7-37fc-4398-95db-62a8ea6aa8c8",
   "metadata": {},
   "outputs": [
    {
     "data": {
      "image/png": "[encoded data removed]",
      "text/plain": [
       "<Figure size 432x288 with 2 Axes>"
      ]
     },
     "metadata": {},
     "output_type": "display_data"
    }
   ],
   "source": [
    "# NOT WORKING: Executing shows plot immediately\n",
    "\n",
    "X1_train, Y1_train, X1_test, Y1_test, classification_1, predictions_1, report_1, confusionmatrix_1 = balanced_classification(x=data_X, y=y, method='down')"
   ]
  },
  {
   "cell_type": "code",
   "execution_count": 201,
   "id": "3aab0cc7-c579-4f18-bf90-735ba59cf358",
   "metadata": {},
   "outputs": [
    {
     "data": {
      "text/plain": [
       "<AxesSubplot:>"
      ]
     },
     "execution_count": 201,
     "metadata": {},
     "output_type": "execute_result"
    }
   ],
   "source": [
    "confusionmatrix_1"
   ]
  },
  {
   "cell_type": "code",
   "execution_count": 194,
   "id": "51b8ae4a-d1db-4e3c-a377-196e10a525e4",
   "metadata": {},
   "outputs": [
    {
     "data": {
      "text/html": [
       "<div>\n",
       "<style scoped>\n",
       "    .dataframe tbody tr th:only-of-type {\n",
       "        vertical-align: middle;\n",
       "    }\n",
       "\n",
       "    .dataframe tbody tr th {\n",
       "        vertical-align: top;\n",
       "    }\n",
       "\n",
       "    .dataframe thead th {\n",
       "        text-align: right;\n",
       "    }\n",
       "</style>\n",
       "<table border=\"1\" class=\"dataframe\">\n",
       "  <thead>\n",
       "    <tr style=\"text-align: right;\">\n",
       "      <th></th>\n",
       "      <th>precision</th>\n",
       "      <th>recall</th>\n",
       "      <th>f1-score</th>\n",
       "      <th>support</th>\n",
       "    </tr>\n",
       "  </thead>\n",
       "  <tbody>\n",
       "    <tr>\n",
       "      <th>No</th>\n",
       "      <td>0.962291</td>\n",
       "      <td>0.807737</td>\n",
       "      <td>0.878266</td>\n",
       "      <td>3412.000000</td>\n",
       "    </tr>\n",
       "    <tr>\n",
       "      <th>Yes</th>\n",
       "      <td>0.103825</td>\n",
       "      <td>0.413043</td>\n",
       "      <td>0.165939</td>\n",
       "      <td>184.000000</td>\n",
       "    </tr>\n",
       "    <tr>\n",
       "      <th>accuracy</th>\n",
       "      <td>0.787542</td>\n",
       "      <td>0.787542</td>\n",
       "      <td>0.787542</td>\n",
       "      <td>0.787542</td>\n",
       "    </tr>\n",
       "    <tr>\n",
       "      <th>macro avg</th>\n",
       "      <td>0.533058</td>\n",
       "      <td>0.610390</td>\n",
       "      <td>0.522103</td>\n",
       "      <td>3596.000000</td>\n",
       "    </tr>\n",
       "    <tr>\n",
       "      <th>weighted avg</th>\n",
       "      <td>0.918365</td>\n",
       "      <td>0.787542</td>\n",
       "      <td>0.841818</td>\n",
       "      <td>3596.000000</td>\n",
       "    </tr>\n",
       "  </tbody>\n",
       "</table>\n",
       "</div>"
      ],
      "text/plain": [
       "              precision    recall  f1-score      support\n",
       "No             0.962291  0.807737  0.878266  3412.000000\n",
       "Yes            0.103825  0.413043  0.165939   184.000000\n",
       "accuracy       0.787542  0.787542  0.787542     0.787542\n",
       "macro avg      0.533058  0.610390  0.522103  3596.000000\n",
       "weighted avg   0.918365  0.787542  0.841818  3596.000000"
      ]
     },
     "execution_count": 194,
     "metadata": {},
     "output_type": "execute_result"
    }
   ],
   "source": [
    "report_1"
   ]
  },
  {
   "cell_type": "code",
   "execution_count": null,
   "id": "6d55ec71-b629-4a9a-8ce2-f047f0b7de3b",
   "metadata": {},
   "outputs": [],
   "source": []
  },
  {
   "cell_type": "markdown",
   "id": "46e3de76-f639-4096-a3a3-534864b5b94e",
   "metadata": {},
   "source": [
    "**Model A2: Linear Regression w/ mix sampling**"
   ]
  },
  {
   "cell_type": "code",
   "execution_count": 208,
   "id": "5ba15df9-d2f1-478f-9573-e4c6d7880dcd",
   "metadata": {},
   "outputs": [
    {
     "data": {
      "image/png": "[encoded data removed]",
      "text/plain": [
       "<Figure size 432x288 with 2 Axes>"
      ]
     },
     "metadata": {},
     "output_type": "display_data"
    }
   ],
   "source": [
    "X2_train, Y2_train, X2_test, Y2_test, classification_2, predictions_2, report_2, confusionmatrix_2 = balanced_classification(x=data_X, y=y, method='mix', ratio=2)"
   ]
  },
  {
   "cell_type": "code",
   "execution_count": 209,
   "id": "8382ec24-946f-4768-be34-23a5e2bda26d",
   "metadata": {},
   "outputs": [
    {
     "data": {
      "text/html": [
       "<div>\n",
       "<style scoped>\n",
       "    .dataframe tbody tr th:only-of-type {\n",
       "        vertical-align: middle;\n",
       "    }\n",
       "\n",
       "    .dataframe tbody tr th {\n",
       "        vertical-align: top;\n",
       "    }\n",
       "\n",
       "    .dataframe thead th {\n",
       "        text-align: right;\n",
       "    }\n",
       "</style>\n",
       "<table border=\"1\" class=\"dataframe\">\n",
       "  <thead>\n",
       "    <tr style=\"text-align: right;\">\n",
       "      <th></th>\n",
       "      <th>precision</th>\n",
       "      <th>recall</th>\n",
       "      <th>f1-score</th>\n",
       "      <th>support</th>\n",
       "    </tr>\n",
       "  </thead>\n",
       "  <tbody>\n",
       "    <tr>\n",
       "      <th>No</th>\n",
       "      <td>0.961451</td>\n",
       "      <td>0.869871</td>\n",
       "      <td>0.913371</td>\n",
       "      <td>3412.000000</td>\n",
       "    </tr>\n",
       "    <tr>\n",
       "      <th>Yes</th>\n",
       "      <td>0.127701</td>\n",
       "      <td>0.353261</td>\n",
       "      <td>0.187590</td>\n",
       "      <td>184.000000</td>\n",
       "    </tr>\n",
       "    <tr>\n",
       "      <th>accuracy</th>\n",
       "      <td>0.843437</td>\n",
       "      <td>0.843437</td>\n",
       "      <td>0.843437</td>\n",
       "      <td>0.843437</td>\n",
       "    </tr>\n",
       "    <tr>\n",
       "      <th>macro avg</th>\n",
       "      <td>0.544576</td>\n",
       "      <td>0.611566</td>\n",
       "      <td>0.550481</td>\n",
       "      <td>3596.000000</td>\n",
       "    </tr>\n",
       "    <tr>\n",
       "      <th>weighted avg</th>\n",
       "      <td>0.918790</td>\n",
       "      <td>0.843437</td>\n",
       "      <td>0.876235</td>\n",
       "      <td>3596.000000</td>\n",
       "    </tr>\n",
       "  </tbody>\n",
       "</table>\n",
       "</div>"
      ],
      "text/plain": [
       "              precision    recall  f1-score      support\n",
       "No             0.961451  0.869871  0.913371  3412.000000\n",
       "Yes            0.127701  0.353261  0.187590   184.000000\n",
       "accuracy       0.843437  0.843437  0.843437     0.843437\n",
       "macro avg      0.544576  0.611566  0.550481  3596.000000\n",
       "weighted avg   0.918790  0.843437  0.876235  3596.000000"
      ]
     },
     "execution_count": 209,
     "metadata": {},
     "output_type": "execute_result"
    }
   ],
   "source": [
    "report_2"
   ]
  },
  {
   "cell_type": "code",
   "execution_count": null,
   "id": "bee32efb-cfda-40c5-9326-782d22254745",
   "metadata": {},
   "outputs": [],
   "source": []
  },
  {
   "cell_type": "markdown",
   "id": "1ee629ff-9cab-44c0-a307-af1fdc1a4e2f",
   "metadata": {},
   "source": [
    "**Model A3: Linear Regression w/ SMOTE**"
   ]
  },
  {
   "cell_type": "code",
   "execution_count": 210,
   "id": "f750d259-17d1-4250-9832-8bedd39f157e",
   "metadata": {},
   "outputs": [
    {
     "data": {
      "image/png": "[encoded data removed]",
      "text/plain": [
       "<Figure size 432x288 with 2 Axes>"
      ]
     },
     "metadata": {},
     "output_type": "display_data"
    }
   ],
   "source": [
    "X3_train, Y3_train, X3_test, Y3_test, classification_3, predictions_3, report_3, confusionmatrix_3 = balanced_classification(x=data_X, y=y, method='smo')"
   ]
  },
  {
   "cell_type": "code",
   "execution_count": 211,
   "id": "2995e602-4b72-4213-9042-61e4c4e188a2",
   "metadata": {},
   "outputs": [
    {
     "data": {
      "text/html": [
       "<div>\n",
       "<style scoped>\n",
       "    .dataframe tbody tr th:only-of-type {\n",
       "        vertical-align: middle;\n",
       "    }\n",
       "\n",
       "    .dataframe tbody tr th {\n",
       "        vertical-align: top;\n",
       "    }\n",
       "\n",
       "    .dataframe thead th {\n",
       "        text-align: right;\n",
       "    }\n",
       "</style>\n",
       "<table border=\"1\" class=\"dataframe\">\n",
       "  <thead>\n",
       "    <tr style=\"text-align: right;\">\n",
       "      <th></th>\n",
       "      <th>precision</th>\n",
       "      <th>recall</th>\n",
       "      <th>f1-score</th>\n",
       "      <th>support</th>\n",
       "    </tr>\n",
       "  </thead>\n",
       "  <tbody>\n",
       "    <tr>\n",
       "      <th>No</th>\n",
       "      <td>0.948832</td>\n",
       "      <td>1.000000</td>\n",
       "      <td>0.973744</td>\n",
       "      <td>3412.000000</td>\n",
       "    </tr>\n",
       "    <tr>\n",
       "      <th>Yes</th>\n",
       "      <td>0.000000</td>\n",
       "      <td>0.000000</td>\n",
       "      <td>0.000000</td>\n",
       "      <td>184.000000</td>\n",
       "    </tr>\n",
       "    <tr>\n",
       "      <th>accuracy</th>\n",
       "      <td>0.948832</td>\n",
       "      <td>0.948832</td>\n",
       "      <td>0.948832</td>\n",
       "      <td>0.948832</td>\n",
       "    </tr>\n",
       "    <tr>\n",
       "      <th>macro avg</th>\n",
       "      <td>0.474416</td>\n",
       "      <td>0.500000</td>\n",
       "      <td>0.486872</td>\n",
       "      <td>3596.000000</td>\n",
       "    </tr>\n",
       "    <tr>\n",
       "      <th>weighted avg</th>\n",
       "      <td>0.900282</td>\n",
       "      <td>0.948832</td>\n",
       "      <td>0.923920</td>\n",
       "      <td>3596.000000</td>\n",
       "    </tr>\n",
       "  </tbody>\n",
       "</table>\n",
       "</div>"
      ],
      "text/plain": [
       "              precision    recall  f1-score      support\n",
       "No             0.948832  1.000000  0.973744  3412.000000\n",
       "Yes            0.000000  0.000000  0.000000   184.000000\n",
       "accuracy       0.948832  0.948832  0.948832     0.948832\n",
       "macro avg      0.474416  0.500000  0.486872  3596.000000\n",
       "weighted avg   0.900282  0.948832  0.923920  3596.000000"
      ]
     },
     "execution_count": 211,
     "metadata": {},
     "output_type": "execute_result"
    }
   ],
   "source": [
    "report_3"
   ]
  },
  {
   "cell_type": "markdown",
   "id": "a4752a7b-eeb7-4254-9af3-5ccf367ddc2c",
   "metadata": {},
   "source": [
    "> **Conclusions:** Continue with model with best balance..."
   ]
  },
  {
   "cell_type": "code",
   "execution_count": null,
   "id": "76fa0759-2d8a-4cfe-a832-0310a751efd5",
   "metadata": {},
   "outputs": [],
   "source": []
  },
  {
   "cell_type": "code",
   "execution_count": 198,
   "id": "7b3419e1-aa02-4291-a38b-b3f32382f45c",
   "metadata": {},
   "outputs": [
    {
     "data": {
      "text/plain": [
       "'werYes'"
      ]
     },
     "execution_count": 198,
     "metadata": {},
     "output_type": "execute_result"
    }
   ],
   "source": []
  },
  {
   "cell_type": "code",
   "execution_count": null,
   "id": "548d06e9-1c2d-42e1-8882-cb0358523fc4",
   "metadata": {},
   "outputs": [],
   "source": []
  },
  {
   "cell_type": "code",
   "execution_count": null,
   "id": "fc8c04e4-3604-4326-af99-dd40d4db0139",
   "metadata": {},
   "outputs": [],
   "source": []
  },
  {
   "cell_type": "code",
   "execution_count": null,
   "id": "61f318cb-efb8-4d17-b4e4-04f0e1bd1c37",
   "metadata": {},
   "outputs": [],
   "source": [
    "cf_matrix = confusion_matrix(y_test, predictions, normalize='all')"
   ]
  },
  {
   "cell_type": "code",
   "execution_count": null,
   "id": "15dc1111-9c3c-49d3-9357-3eb596ea8aa8",
   "metadata": {},
   "outputs": [],
   "source": []
  },
  {
   "cell_type": "code",
   "execution_count": null,
   "id": "0b9188cb-e384-47e1-99cf-c7a77451f5e1",
   "metadata": {},
   "outputs": [],
   "source": []
  },
  {
   "cell_type": "code",
   "execution_count": null,
   "id": "960a68d2-0f7c-4e12-87f6-c08932364ff2",
   "metadata": {},
   "outputs": [],
   "source": []
  },
  {
   "cell_type": "code",
   "execution_count": null,
   "id": "834d6ab0-58b6-4e06-864f-6ac812a5cfb4",
   "metadata": {},
   "outputs": [],
   "source": []
  },
  {
   "cell_type": "code",
   "execution_count": null,
   "id": "f8b39379-24f2-48a2-9d7d-23326a8dcd86",
   "metadata": {},
   "outputs": [],
   "source": []
  },
  {
   "cell_type": "code",
   "execution_count": null,
   "id": "d68f9195-60dd-4631-8268-baaf3b8558d0",
   "metadata": {},
   "outputs": [],
   "source": []
  },
  {
   "cell_type": "markdown",
   "id": "c9911210-ba01-4330-9b99-05dde2444b83",
   "metadata": {},
   "source": [
    "7 model building"
   ]
  },
  {
   "cell_type": "markdown",
   "id": "d4caa63e-8c46-4ae3-811e-65bd873ad1a9",
   "metadata": {},
   "source": [
    "Lin Reg with different thesholds"
   ]
  },
  {
   "cell_type": "markdown",
   "id": "a1590249-fb52-4cf3-9028-7647b87cb2b7",
   "metadata": {},
   "source": [
    "KNN with different k (different thresholds ?)"
   ]
  },
  {
   "cell_type": "markdown",
   "id": "ebc01c5d-9507-4c2c-9840-7356788aa271",
   "metadata": {},
   "source": [
    "other models"
   ]
  },
  {
   "cell_type": "markdown",
   "id": "e5f84d0e-7aab-4d37-95f1-8cd4193e018a",
   "metadata": {},
   "source": [
    "models with transformed var"
   ]
  },
  {
   "cell_type": "markdown",
   "id": "3dcfcd1a-e4c4-4418-bc4a-c9528a9229df",
   "metadata": {},
   "source": [
    "models with scaled variables"
   ]
  },
  {
   "cell_type": "markdown",
   "id": "135eb0dc-431f-43e8-84b1-20cb62e22445",
   "metadata": {},
   "source": [
    "models with combined improvements"
   ]
  }
 ],
 "metadata": {
  "kernelspec": {
   "display_name": "Python3Brew",
   "language": "python",
   "name": "python3brew"
  },
  "language_info": {
   "codemirror_mode": {
    "name": "ipython",
    "version": 3
   },
   "file_extension": ".py",
   "mimetype": "text/x-python",
   "name": "python",
   "nbconvert_exporter": "python",
   "pygments_lexer": "ipython3",
   "version": "3.9.4"
  }
 },
 "nbformat": 4,
 "nbformat_minor": 5
}
